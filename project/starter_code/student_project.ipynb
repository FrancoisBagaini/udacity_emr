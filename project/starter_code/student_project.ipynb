{
 "cells": [
  {
   "cell_type": "markdown",
   "metadata": {},
   "source": [
    "# Overview"
   ]
  },
  {
   "cell_type": "markdown",
   "metadata": {},
   "source": [
    "1. Project Instructions & Prerequisites\n",
    "2. Learning Objectives\n",
    "3. Data Preparation\n",
    "4. Create Categorical Features with TF Feature Columns\n",
    "5. Create Continuous/Numerical Features with TF Feature Columns\n",
    "6. Build Deep Learning Regression Model with Sequential API and TF Probability Layers\n",
    "7. Evaluating Potential Model Biases with Aequitas Toolkit\n"
   ]
  },
  {
   "cell_type": "markdown",
   "metadata": {},
   "source": [
    "#  1. Project Instructions & Prerequisites"
   ]
  },
  {
   "cell_type": "markdown",
   "metadata": {},
   "source": [
    "## Project Instructions"
   ]
  },
  {
   "cell_type": "markdown",
   "metadata": {},
   "source": [
    "**Context**: EHR data is becoming a key source of real-world evidence (RWE) for the pharmaceutical industry and regulators to [make decisions on clinical trials](https://www.fda.gov/news-events/speeches-fda-officials/breaking-down-barriers-between-clinical-trials-and-clinical-care-incorporating-real-world-evidence). You are a data scientist for an exciting unicorn healthcare startup that has created a groundbreaking diabetes drug that is ready for clinical trial testing. It is a very unique and sensitive drug that requires administering the drug over at least 5-7 days of time in the hospital with frequent monitoring/testing and patient medication adherence training with a mobile application. You have been provided a patient dataset from a client partner and are tasked with building a predictive model that can identify which type of patients the company should focus their efforts testing this drug on. Target patients are people that are likely to be in the hospital for this duration of time and will not incur significant additional costs for administering this drug to the patient and monitoring.  \n",
    "\n",
    "In order to achieve your goal you must build a regression model that can predict the estimated hospitalization time for a patient and use this to select/filter patients for your study.\n"
   ]
  },
  {
   "cell_type": "markdown",
   "metadata": {},
   "source": [
    "**Expected Hospitalization Time Regression Model:** Utilizing a synthetic dataset(denormalized at the line level augmentation) built off of the UCI Diabetes readmission dataset, students will build a regression model that predicts the expected days of hospitalization time and then convert this to a binary prediction of whether to include or exclude that patient from the clinical trial.\n",
    "\n",
    "This project will demonstrate the importance of building the right data representation at the encounter level, with appropriate filtering and preprocessing/feature engineering of key medical code sets. This project will also require students to analyze and interpret their model for biases across key demographic groups. \n",
    "\n",
    "Please see the project rubric online for more details on the areas your project will be evaluated."
   ]
  },
  {
   "cell_type": "markdown",
   "metadata": {},
   "source": [
    "### Dataset"
   ]
  },
  {
   "cell_type": "markdown",
   "metadata": {},
   "source": [
    "Due to healthcare PHI regulations (HIPAA, HITECH), there are limited number of publicly available datasets and some datasets require training and approval. So, for the purpose of this exercise, we are using a dataset from UC Irvine(https://archive.ics.uci.edu/ml/datasets/Diabetes+130-US+hospitals+for+years+1999-2008) that has been modified for this course. Please note that it is limited in its representation of some key features such as diagnosis codes which are usually an unordered list in 835s/837s (the HL7 standard interchange formats used for claims and remits)."
   ]
  },
  {
   "cell_type": "markdown",
   "metadata": {},
   "source": [
    "**Data Schema**\n",
    "The dataset reference information can be https://github.com/udacity/nd320-c1-emr-data-starter/blob/master/project/data_schema_references/\n",
    ". There are two CSVs that provide more details on the fields and some of the mapped values."
   ]
  },
  {
   "cell_type": "markdown",
   "metadata": {},
   "source": [
    "## Project Submission "
   ]
  },
  {
   "cell_type": "markdown",
   "metadata": {},
   "source": [
    "When submitting this project, make sure to run all the cells before saving the notebook. Save the notebook file as \"student_project_submission.ipynb\" and save another copy as an HTML file by clicking \"File\" -> \"Download as..\"->\"html\". Include the \"utils.py\" and \"student_utils.py\" files in your submission. The student_utils.py should be where you put most of your code that you write and the summary and text explanations should be written inline in the notebook. Once you download these files, compress them into one zip file for submission."
   ]
  },
  {
   "cell_type": "markdown",
   "metadata": {},
   "source": [
    "## Prerequisites "
   ]
  },
  {
   "cell_type": "markdown",
   "metadata": {},
   "source": [
    "- Intermediate level knowledge of Python\n",
    "- Basic knowledge of probability and statistics\n",
    "- Basic knowledge of machine learning concepts\n",
    "- Installation of Tensorflow 2.0 and other dependencies(conda environment.yml or virtualenv requirements.txt file provided)"
   ]
  },
  {
   "cell_type": "markdown",
   "metadata": {},
   "source": [
    "## Environment Setup"
   ]
  },
  {
   "cell_type": "markdown",
   "metadata": {},
   "source": [
    "For step by step instructions on creating your environment, please go to https://github.com/udacity/nd320-c1-emr-data-starter/blob/master/project/README.md."
   ]
  },
  {
   "cell_type": "markdown",
   "metadata": {},
   "source": [
    "# 2.  Learning Objectives"
   ]
  },
  {
   "cell_type": "markdown",
   "metadata": {},
   "source": [
    "By the end of the project, you will be able to \n",
    "   - Use the Tensorflow Dataset API to scalably extract, transform, and load datasets and build datasets aggregated at the line, encounter, and patient data levels(longitudinal)\n",
    "   - Analyze EHR datasets to check for common issues (data leakage, statistical properties, missing values, high cardinality) by performing exploratory data analysis.\n",
    "   - Create categorical features from Key Industry Code Sets (ICD, CPT, NDC) and reduce dimensionality for high cardinality features by using embeddings \n",
    "   - Create derived features(bucketing, cross-features, embeddings) utilizing Tensorflow feature columns on both continuous and categorical input features\n",
    "   - SWBAT use the Tensorflow Probability library to train a model that provides uncertainty range predictions that allow for risk adjustment/prioritization and triaging of predictions\n",
    "   - Analyze and determine biases for a model for key demographic groups by evaluating performance metrics across groups by using the Aequitas framework \n"
   ]
  },
  {
   "cell_type": "markdown",
   "metadata": {},
   "source": [
    "# 3. Data Preparation"
   ]
  },
  {
   "cell_type": "code",
   "execution_count": 1,
   "metadata": {},
   "outputs": [],
   "source": [
    "# from __future__ import absolute_import, division, print_function, unicode_literals\n",
    "import os\n",
    "import numpy as np\n",
    "import tensorflow as tf\n",
    "from tensorflow.keras import layers\n",
    "import tensorflow_probability as tfp\n",
    "import matplotlib.pyplot as plt\n",
    "import pandas as pd\n",
    "import aequitas as ae\n",
    "# Put all of the helper functions in utils\n",
    "import importlib\n",
    "from utils import build_vocab_files, show_group_stats_viz, aggregate_dataset, preprocess_df, df_to_dataset, posterior_mean_field, prior_trainable\n",
    "pd.set_option('display.max_columns', 500)\n",
    "# this allows you to make changes and save in student_utils.py and the file is reloaded every time you run a code block\n",
    "%load_ext autoreload\n",
    "%autoreload"
   ]
  },
  {
   "cell_type": "code",
   "execution_count": 2,
   "metadata": {},
   "outputs": [],
   "source": [
    "#OPEN ISSUE ON MAC OSX for TF model training\n",
    "import os\n",
    "os.environ['KMP_DUPLICATE_LIB_OK']='True'"
   ]
  },
  {
   "cell_type": "markdown",
   "metadata": {},
   "source": [
    "## Dataset Loading and Schema Review"
   ]
  },
  {
   "cell_type": "markdown",
   "metadata": {},
   "source": [
    "Load the dataset and view a sample of the dataset along with reviewing the schema reference files to gain a deeper understanding of the dataset. The dataset is located at the following path https://github.com/udacity/nd320-c1-emr-data-starter/blob/master/project/starter_code/data/final_project_dataset.csv. Also, review the information found in the data schema https://github.com/udacity/nd320-c1-emr-data-starter/blob/master/project/data_schema_references/"
   ]
  },
  {
   "cell_type": "code",
   "execution_count": 2,
   "metadata": {},
   "outputs": [
    {
     "data": {
      "text/html": [
       "<div>\n",
       "<style scoped>\n",
       "    .dataframe tbody tr th:only-of-type {\n",
       "        vertical-align: middle;\n",
       "    }\n",
       "\n",
       "    .dataframe tbody tr th {\n",
       "        vertical-align: top;\n",
       "    }\n",
       "\n",
       "    .dataframe thead th {\n",
       "        text-align: right;\n",
       "    }\n",
       "</style>\n",
       "<table border=\"1\" class=\"dataframe\">\n",
       "  <thead>\n",
       "    <tr style=\"text-align: right;\">\n",
       "      <th></th>\n",
       "      <th>encounter_id</th>\n",
       "      <th>patient_nbr</th>\n",
       "      <th>race</th>\n",
       "      <th>gender</th>\n",
       "      <th>age</th>\n",
       "      <th>weight</th>\n",
       "      <th>admission_type_id</th>\n",
       "      <th>discharge_disposition_id</th>\n",
       "      <th>admission_source_id</th>\n",
       "      <th>time_in_hospital</th>\n",
       "      <th>payer_code</th>\n",
       "      <th>medical_specialty</th>\n",
       "      <th>primary_diagnosis_code</th>\n",
       "      <th>other_diagnosis_codes</th>\n",
       "      <th>number_outpatient</th>\n",
       "      <th>number_inpatient</th>\n",
       "      <th>number_emergency</th>\n",
       "      <th>num_lab_procedures</th>\n",
       "      <th>number_diagnoses</th>\n",
       "      <th>num_medications</th>\n",
       "      <th>num_procedures</th>\n",
       "      <th>ndc_code</th>\n",
       "      <th>max_glu_serum</th>\n",
       "      <th>A1Cresult</th>\n",
       "      <th>change</th>\n",
       "      <th>readmitted</th>\n",
       "    </tr>\n",
       "  </thead>\n",
       "  <tbody>\n",
       "    <tr>\n",
       "      <th>0</th>\n",
       "      <td>2278392</td>\n",
       "      <td>8222157</td>\n",
       "      <td>Caucasian</td>\n",
       "      <td>Female</td>\n",
       "      <td>[0-10)</td>\n",
       "      <td>?</td>\n",
       "      <td>6</td>\n",
       "      <td>25</td>\n",
       "      <td>1</td>\n",
       "      <td>1</td>\n",
       "      <td>?</td>\n",
       "      <td>Pediatrics-Endocrinology</td>\n",
       "      <td>250.83</td>\n",
       "      <td>?|?</td>\n",
       "      <td>0</td>\n",
       "      <td>0</td>\n",
       "      <td>0</td>\n",
       "      <td>41</td>\n",
       "      <td>1</td>\n",
       "      <td>1</td>\n",
       "      <td>0</td>\n",
       "      <td>NaN</td>\n",
       "      <td>None</td>\n",
       "      <td>None</td>\n",
       "      <td>No</td>\n",
       "      <td>NO</td>\n",
       "    </tr>\n",
       "    <tr>\n",
       "      <th>1</th>\n",
       "      <td>149190</td>\n",
       "      <td>55629189</td>\n",
       "      <td>Caucasian</td>\n",
       "      <td>Female</td>\n",
       "      <td>[10-20)</td>\n",
       "      <td>?</td>\n",
       "      <td>1</td>\n",
       "      <td>1</td>\n",
       "      <td>7</td>\n",
       "      <td>3</td>\n",
       "      <td>?</td>\n",
       "      <td>?</td>\n",
       "      <td>276</td>\n",
       "      <td>250.01|255</td>\n",
       "      <td>0</td>\n",
       "      <td>0</td>\n",
       "      <td>0</td>\n",
       "      <td>59</td>\n",
       "      <td>9</td>\n",
       "      <td>18</td>\n",
       "      <td>0</td>\n",
       "      <td>68071-1701</td>\n",
       "      <td>None</td>\n",
       "      <td>None</td>\n",
       "      <td>Ch</td>\n",
       "      <td>&gt;30</td>\n",
       "    </tr>\n",
       "    <tr>\n",
       "      <th>2</th>\n",
       "      <td>64410</td>\n",
       "      <td>86047875</td>\n",
       "      <td>AfricanAmerican</td>\n",
       "      <td>Female</td>\n",
       "      <td>[20-30)</td>\n",
       "      <td>?</td>\n",
       "      <td>1</td>\n",
       "      <td>1</td>\n",
       "      <td>7</td>\n",
       "      <td>2</td>\n",
       "      <td>?</td>\n",
       "      <td>?</td>\n",
       "      <td>648</td>\n",
       "      <td>250|V27</td>\n",
       "      <td>2</td>\n",
       "      <td>1</td>\n",
       "      <td>0</td>\n",
       "      <td>11</td>\n",
       "      <td>6</td>\n",
       "      <td>13</td>\n",
       "      <td>5</td>\n",
       "      <td>0378-1110</td>\n",
       "      <td>None</td>\n",
       "      <td>None</td>\n",
       "      <td>No</td>\n",
       "      <td>NO</td>\n",
       "    </tr>\n",
       "    <tr>\n",
       "      <th>3</th>\n",
       "      <td>500364</td>\n",
       "      <td>82442376</td>\n",
       "      <td>Caucasian</td>\n",
       "      <td>Male</td>\n",
       "      <td>[30-40)</td>\n",
       "      <td>?</td>\n",
       "      <td>1</td>\n",
       "      <td>1</td>\n",
       "      <td>7</td>\n",
       "      <td>2</td>\n",
       "      <td>?</td>\n",
       "      <td>?</td>\n",
       "      <td>8</td>\n",
       "      <td>250.43|403</td>\n",
       "      <td>0</td>\n",
       "      <td>0</td>\n",
       "      <td>0</td>\n",
       "      <td>44</td>\n",
       "      <td>7</td>\n",
       "      <td>16</td>\n",
       "      <td>1</td>\n",
       "      <td>68071-1701</td>\n",
       "      <td>None</td>\n",
       "      <td>None</td>\n",
       "      <td>Ch</td>\n",
       "      <td>NO</td>\n",
       "    </tr>\n",
       "    <tr>\n",
       "      <th>4</th>\n",
       "      <td>16680</td>\n",
       "      <td>42519267</td>\n",
       "      <td>Caucasian</td>\n",
       "      <td>Male</td>\n",
       "      <td>[40-50)</td>\n",
       "      <td>?</td>\n",
       "      <td>1</td>\n",
       "      <td>1</td>\n",
       "      <td>7</td>\n",
       "      <td>1</td>\n",
       "      <td>?</td>\n",
       "      <td>?</td>\n",
       "      <td>197</td>\n",
       "      <td>157|250</td>\n",
       "      <td>0</td>\n",
       "      <td>0</td>\n",
       "      <td>0</td>\n",
       "      <td>51</td>\n",
       "      <td>5</td>\n",
       "      <td>8</td>\n",
       "      <td>0</td>\n",
       "      <td>0049-4110</td>\n",
       "      <td>None</td>\n",
       "      <td>None</td>\n",
       "      <td>Ch</td>\n",
       "      <td>NO</td>\n",
       "    </tr>\n",
       "  </tbody>\n",
       "</table>\n",
       "</div>"
      ],
      "text/plain": [
       "   encounter_id  patient_nbr             race  gender      age weight  \\\n",
       "0       2278392      8222157        Caucasian  Female   [0-10)      ?   \n",
       "1        149190     55629189        Caucasian  Female  [10-20)      ?   \n",
       "2         64410     86047875  AfricanAmerican  Female  [20-30)      ?   \n",
       "3        500364     82442376        Caucasian    Male  [30-40)      ?   \n",
       "4         16680     42519267        Caucasian    Male  [40-50)      ?   \n",
       "\n",
       "   admission_type_id  discharge_disposition_id  admission_source_id  \\\n",
       "0                  6                        25                    1   \n",
       "1                  1                         1                    7   \n",
       "2                  1                         1                    7   \n",
       "3                  1                         1                    7   \n",
       "4                  1                         1                    7   \n",
       "\n",
       "   time_in_hospital payer_code         medical_specialty  \\\n",
       "0                 1          ?  Pediatrics-Endocrinology   \n",
       "1                 3          ?                         ?   \n",
       "2                 2          ?                         ?   \n",
       "3                 2          ?                         ?   \n",
       "4                 1          ?                         ?   \n",
       "\n",
       "  primary_diagnosis_code other_diagnosis_codes  number_outpatient  \\\n",
       "0                 250.83                   ?|?                  0   \n",
       "1                    276            250.01|255                  0   \n",
       "2                    648               250|V27                  2   \n",
       "3                      8            250.43|403                  0   \n",
       "4                    197               157|250                  0   \n",
       "\n",
       "   number_inpatient  number_emergency  num_lab_procedures  number_diagnoses  \\\n",
       "0                 0                 0                  41                 1   \n",
       "1                 0                 0                  59                 9   \n",
       "2                 1                 0                  11                 6   \n",
       "3                 0                 0                  44                 7   \n",
       "4                 0                 0                  51                 5   \n",
       "\n",
       "   num_medications  num_procedures    ndc_code max_glu_serum A1Cresult change  \\\n",
       "0                1               0         NaN          None      None     No   \n",
       "1               18               0  68071-1701          None      None     Ch   \n",
       "2               13               5   0378-1110          None      None     No   \n",
       "3               16               1  68071-1701          None      None     Ch   \n",
       "4                8               0   0049-4110          None      None     Ch   \n",
       "\n",
       "  readmitted  \n",
       "0         NO  \n",
       "1        >30  \n",
       "2         NO  \n",
       "3         NO  \n",
       "4         NO  "
      ]
     },
     "execution_count": 2,
     "metadata": {},
     "output_type": "execute_result"
    }
   ],
   "source": [
    "dataset_path = \"./data/final_project_dataset.csv\"\n",
    "df = pd.read_csv(dataset_path)\n",
    "\n",
    "df.head()"
   ]
  },
  {
   "cell_type": "code",
   "execution_count": 5,
   "metadata": {},
   "outputs": [
    {
     "data": {
      "text/plain": [
       "encounter_id\n",
       "60016020     6\n",
       "63184686     6\n",
       "58316058     6\n",
       "110310714    6\n",
       "63415968     6\n",
       "            ..\n",
       "170219592    1\n",
       "170232828    1\n",
       "170264592    1\n",
       "170265714    1\n",
       "152388294    1\n",
       "Name: patient_nbr, Length: 101766, dtype: int64"
      ]
     },
     "execution_count": 5,
     "metadata": {},
     "output_type": "execute_result"
    }
   ],
   "source": [
    "encounters=df.groupby('encounter_id').count().patient_nbr.sort_values(ascending=False)\n",
    "encounters"
   ]
  },
  {
   "cell_type": "code",
   "execution_count": 6,
   "metadata": {},
   "outputs": [
    {
     "data": {
      "text/html": [
       "<div>\n",
       "<style scoped>\n",
       "    .dataframe tbody tr th:only-of-type {\n",
       "        vertical-align: middle;\n",
       "    }\n",
       "\n",
       "    .dataframe tbody tr th {\n",
       "        vertical-align: top;\n",
       "    }\n",
       "\n",
       "    .dataframe thead th {\n",
       "        text-align: right;\n",
       "    }\n",
       "</style>\n",
       "<table border=\"1\" class=\"dataframe\">\n",
       "  <thead>\n",
       "    <tr style=\"text-align: right;\">\n",
       "      <th></th>\n",
       "      <th>patient_nbr</th>\n",
       "      <th>ndc_code</th>\n",
       "    </tr>\n",
       "  </thead>\n",
       "  <tbody>\n",
       "    <tr>\n",
       "      <th>20816</th>\n",
       "      <td>2431710</td>\n",
       "      <td>0087-6063</td>\n",
       "    </tr>\n",
       "    <tr>\n",
       "      <th>20817</th>\n",
       "      <td>2431710</td>\n",
       "      <td>60429-435</td>\n",
       "    </tr>\n",
       "    <tr>\n",
       "      <th>20818</th>\n",
       "      <td>2431710</td>\n",
       "      <td>0591-0460</td>\n",
       "    </tr>\n",
       "    <tr>\n",
       "      <th>20819</th>\n",
       "      <td>2431710</td>\n",
       "      <td>0173-0861</td>\n",
       "    </tr>\n",
       "    <tr>\n",
       "      <th>20820</th>\n",
       "      <td>2431710</td>\n",
       "      <td>23155-148</td>\n",
       "    </tr>\n",
       "    <tr>\n",
       "      <th>20821</th>\n",
       "      <td>2431710</td>\n",
       "      <td>68071-1701</td>\n",
       "    </tr>\n",
       "  </tbody>\n",
       "</table>\n",
       "</div>"
      ],
      "text/plain": [
       "       patient_nbr    ndc_code\n",
       "20816      2431710   0087-6063\n",
       "20817      2431710   60429-435\n",
       "20818      2431710   0591-0460\n",
       "20819      2431710   0173-0861\n",
       "20820      2431710   23155-148\n",
       "20821      2431710  68071-1701"
      ]
     },
     "execution_count": 6,
     "metadata": {},
     "output_type": "execute_result"
    }
   ],
   "source": [
    "df.loc[df.encounter_id==encounters.index[0]][['patient_nbr', 'ndc_code']]"
   ]
  },
  {
   "cell_type": "code",
   "execution_count": 7,
   "metadata": {},
   "outputs": [
    {
     "data": {
      "text/plain": [
       "patient_nbr\n",
       "90609804    52\n",
       "89472402    50\n",
       "91751121    50\n",
       "62352252    46\n",
       "84397842    41\n",
       "            ..\n",
       "60064425     1\n",
       "60064344     1\n",
       "60063633     1\n",
       "60063048     1\n",
       "48164949     1\n",
       "Name: encounter_id, Length: 71518, dtype: int64"
      ]
     },
     "execution_count": 7,
     "metadata": {},
     "output_type": "execute_result"
    }
   ],
   "source": [
    "patients = df.groupby('patient_nbr').count().encounter_id.sort_values(ascending=False)\n",
    "patients"
   ]
  },
  {
   "cell_type": "code",
   "execution_count": 8,
   "metadata": {},
   "outputs": [
    {
     "data": {
      "text/plain": [
       "<bound method NDFrame.head of         encounter_id  discharge_disposition_id\n",
       "55963      127135518                         1\n",
       "57912      130655706                         1\n",
       "57913      130655706                         1\n",
       "57914      130655706                         1\n",
       "63815      143374980                         1\n",
       "63816      143374980                         1\n",
       "63817      143374980                         1\n",
       "70662      153498534                         1\n",
       "70663      153498534                         1\n",
       "70664      153498534                         1\n",
       "76186      160052880                         1\n",
       "76187      160052880                         1\n",
       "76188      160052880                         1\n",
       "95162      192672246                        22\n",
       "95163      192672246                        22\n",
       "97796      200426748                         6\n",
       "97797      200426748                         6\n",
       "100487     209323626                         1\n",
       "100488     209323626                         1\n",
       "100489     209323626                         1\n",
       "100490     209323626                         1\n",
       "100680     209966466                         1\n",
       "100681     209966466                         1\n",
       "100682     209966466                         1>"
      ]
     },
     "execution_count": 8,
     "metadata": {},
     "output_type": "execute_result"
    }
   ],
   "source": [
    "df.loc[df.patient_nbr == patients.index[20]][['encounter_id', 'discharge_disposition_id']].head"
   ]
  },
  {
   "cell_type": "markdown",
   "metadata": {},
   "source": [
    "## Determine Level of Dataset (Line or Encounter)"
   ]
  },
  {
   "cell_type": "markdown",
   "metadata": {},
   "source": [
    "**Question 1**: Based off of analysis of the data, what level is this dataset? Is it at the line or encounter level? Are there any key fields besides the encounter_id and patient_nbr fields that we should use to aggregate on? Knowing this information will help inform us what level of aggregation is necessary for future steps and is a step that is often overlooked. "
   ]
  },
  {
   "cell_type": "markdown",
   "metadata": {},
   "source": [
    "There are multiple encounter for a single patient are there are several lines with different medication for a single encounter of a single patient. So the dataset is at the line level."
   ]
  },
  {
   "cell_type": "markdown",
   "metadata": {},
   "source": [
    "## Analyze Dataset"
   ]
  },
  {
   "cell_type": "markdown",
   "metadata": {},
   "source": [
    "**Question 2**: Utilizing the library of your choice (recommend Pandas and Seaborn or matplotlib though), perform exploratory data analysis on the dataset. In particular be sure to address the following questions:  \n",
    "    - a. Field(s) with high amount of missing/zero values\n",
    "    - b. Based off the frequency histogram for each numerical field, which numerical field(s) has/have a Gaussian(normal) distribution shape?\n",
    "    - c. Which field(s) have high cardinality and why (HINT: ndc_code is one feature)\n",
    "    - d. Please describe the demographic distributions in the dataset for the age and gender fields.\n",
    "    \n"
   ]
  },
  {
   "cell_type": "code",
   "execution_count": 4,
   "metadata": {},
   "outputs": [
    {
     "data": {
      "text/plain": [
       "array(['weight', 'time_in_hospital', 'number_inpatient',\n",
       "       'number_emergency', 'num_lab_procedures', 'number_diagnoses',\n",
       "       'num_medications', 'num_procedures'], dtype=object)"
      ]
     },
     "execution_count": 4,
     "metadata": {},
     "output_type": "execute_result"
    }
   ],
   "source": [
    "data = pd.read_csv('../data_schema_references/project_data_schema.csv')\n",
    "data.loc[data.Type=='numerical','Feature Name\\n'].values"
   ]
  },
  {
   "cell_type": "code",
   "execution_count": 3,
   "metadata": {},
   "outputs": [],
   "source": [
    "numericals = ['time_in_hospital', 'number_outpatient','number_inpatient', 'number_emergency',\n",
    " 'num_lab_procedures', 'number_diagnoses', 'num_medications', 'num_procedures']"
   ]
  },
  {
   "cell_type": "code",
   "execution_count": 76,
   "metadata": {},
   "outputs": [
    {
     "data": {
      "text/plain": [
       "array(['Ch', 'No'], dtype=object)"
      ]
     },
     "execution_count": 76,
     "metadata": {},
     "output_type": "execute_result"
    }
   ],
   "source": [
    "df.change.sort_values().unique()"
   ]
  },
  {
   "cell_type": "code",
   "execution_count": 136,
   "metadata": {},
   "outputs": [
    {
     "data": {
      "text/html": [
       "<div>\n",
       "<style scoped>\n",
       "    .dataframe tbody tr th:only-of-type {\n",
       "        vertical-align: middle;\n",
       "    }\n",
       "\n",
       "    .dataframe tbody tr th {\n",
       "        vertical-align: top;\n",
       "    }\n",
       "\n",
       "    .dataframe thead th {\n",
       "        text-align: right;\n",
       "    }\n",
       "</style>\n",
       "<table border=\"1\" class=\"dataframe\">\n",
       "  <thead>\n",
       "    <tr style=\"text-align: right;\">\n",
       "      <th></th>\n",
       "      <th>feature</th>\n",
       "      <th>dtype</th>\n",
       "      <th>type</th>\n",
       "      <th>missing_ratio</th>\n",
       "    </tr>\n",
       "  </thead>\n",
       "  <tbody>\n",
       "    <tr>\n",
       "      <th>0</th>\n",
       "      <td>encounter_id</td>\n",
       "      <td>&lt;class 'numpy.int64'&gt;</td>\n",
       "      <td>int64</td>\n",
       "      <td>0.000000</td>\n",
       "    </tr>\n",
       "    <tr>\n",
       "      <th>1</th>\n",
       "      <td>patient_nbr</td>\n",
       "      <td>&lt;class 'numpy.int64'&gt;</td>\n",
       "      <td>int64</td>\n",
       "      <td>0.000000</td>\n",
       "    </tr>\n",
       "    <tr>\n",
       "      <th>2</th>\n",
       "      <td>race</td>\n",
       "      <td>&lt;class 'str'&gt;</td>\n",
       "      <td>object</td>\n",
       "      <td>0.023071</td>\n",
       "    </tr>\n",
       "    <tr>\n",
       "      <th>3</th>\n",
       "      <td>gender</td>\n",
       "      <td>&lt;class 'str'&gt;</td>\n",
       "      <td>object</td>\n",
       "      <td>0.000035</td>\n",
       "    </tr>\n",
       "    <tr>\n",
       "      <th>4</th>\n",
       "      <td>age</td>\n",
       "      <td>&lt;class 'str'&gt;</td>\n",
       "      <td>object</td>\n",
       "      <td>0.000000</td>\n",
       "    </tr>\n",
       "    <tr>\n",
       "      <th>5</th>\n",
       "      <td>weight</td>\n",
       "      <td>&lt;class 'str'&gt;</td>\n",
       "      <td>object</td>\n",
       "      <td>0.970005</td>\n",
       "    </tr>\n",
       "    <tr>\n",
       "      <th>6</th>\n",
       "      <td>admission_type_id</td>\n",
       "      <td>&lt;class 'numpy.int64'&gt;</td>\n",
       "      <td>int64</td>\n",
       "      <td>0.000000</td>\n",
       "    </tr>\n",
       "    <tr>\n",
       "      <th>7</th>\n",
       "      <td>discharge_disposition_id</td>\n",
       "      <td>&lt;class 'numpy.int64'&gt;</td>\n",
       "      <td>int64</td>\n",
       "      <td>0.000000</td>\n",
       "    </tr>\n",
       "    <tr>\n",
       "      <th>8</th>\n",
       "      <td>admission_source_id</td>\n",
       "      <td>&lt;class 'numpy.int64'&gt;</td>\n",
       "      <td>int64</td>\n",
       "      <td>0.000000</td>\n",
       "    </tr>\n",
       "    <tr>\n",
       "      <th>9</th>\n",
       "      <td>time_in_hospital</td>\n",
       "      <td>&lt;class 'numpy.int64'&gt;</td>\n",
       "      <td>int64</td>\n",
       "      <td>0.000000</td>\n",
       "    </tr>\n",
       "    <tr>\n",
       "      <th>10</th>\n",
       "      <td>payer_code</td>\n",
       "      <td>&lt;class 'str'&gt;</td>\n",
       "      <td>object</td>\n",
       "      <td>0.377831</td>\n",
       "    </tr>\n",
       "    <tr>\n",
       "      <th>11</th>\n",
       "      <td>medical_specialty</td>\n",
       "      <td>&lt;class 'str'&gt;</td>\n",
       "      <td>object</td>\n",
       "      <td>0.484319</td>\n",
       "    </tr>\n",
       "    <tr>\n",
       "      <th>12</th>\n",
       "      <td>primary_diagnosis_code</td>\n",
       "      <td>&lt;class 'str'&gt;</td>\n",
       "      <td>object</td>\n",
       "      <td>0.000230</td>\n",
       "    </tr>\n",
       "    <tr>\n",
       "      <th>13</th>\n",
       "      <td>other_diagnosis_codes</td>\n",
       "      <td>&lt;class 'str'&gt;</td>\n",
       "      <td>object</td>\n",
       "      <td>0.002371</td>\n",
       "    </tr>\n",
       "    <tr>\n",
       "      <th>14</th>\n",
       "      <td>number_outpatient</td>\n",
       "      <td>&lt;class 'numpy.int64'&gt;</td>\n",
       "      <td>int64</td>\n",
       "      <td>0.000000</td>\n",
       "    </tr>\n",
       "    <tr>\n",
       "      <th>15</th>\n",
       "      <td>number_inpatient</td>\n",
       "      <td>&lt;class 'numpy.int64'&gt;</td>\n",
       "      <td>int64</td>\n",
       "      <td>0.000000</td>\n",
       "    </tr>\n",
       "    <tr>\n",
       "      <th>16</th>\n",
       "      <td>number_emergency</td>\n",
       "      <td>&lt;class 'numpy.int64'&gt;</td>\n",
       "      <td>int64</td>\n",
       "      <td>0.000000</td>\n",
       "    </tr>\n",
       "    <tr>\n",
       "      <th>17</th>\n",
       "      <td>num_lab_procedures</td>\n",
       "      <td>&lt;class 'numpy.int64'&gt;</td>\n",
       "      <td>int64</td>\n",
       "      <td>0.000000</td>\n",
       "    </tr>\n",
       "    <tr>\n",
       "      <th>18</th>\n",
       "      <td>number_diagnoses</td>\n",
       "      <td>&lt;class 'numpy.int64'&gt;</td>\n",
       "      <td>int64</td>\n",
       "      <td>0.000000</td>\n",
       "    </tr>\n",
       "    <tr>\n",
       "      <th>19</th>\n",
       "      <td>num_medications</td>\n",
       "      <td>&lt;class 'numpy.int64'&gt;</td>\n",
       "      <td>int64</td>\n",
       "      <td>0.000000</td>\n",
       "    </tr>\n",
       "    <tr>\n",
       "      <th>20</th>\n",
       "      <td>num_procedures</td>\n",
       "      <td>&lt;class 'numpy.int64'&gt;</td>\n",
       "      <td>int64</td>\n",
       "      <td>0.000000</td>\n",
       "    </tr>\n",
       "    <tr>\n",
       "      <th>21</th>\n",
       "      <td>ndc_code</td>\n",
       "      <td>&lt;class 'float'&gt;</td>\n",
       "      <td>object</td>\n",
       "      <td>0.163585</td>\n",
       "    </tr>\n",
       "    <tr>\n",
       "      <th>22</th>\n",
       "      <td>max_glu_serum</td>\n",
       "      <td>&lt;class 'str'&gt;</td>\n",
       "      <td>object</td>\n",
       "      <td>0.951089</td>\n",
       "    </tr>\n",
       "    <tr>\n",
       "      <th>23</th>\n",
       "      <td>A1Cresult</td>\n",
       "      <td>&lt;class 'str'&gt;</td>\n",
       "      <td>object</td>\n",
       "      <td>0.820295</td>\n",
       "    </tr>\n",
       "    <tr>\n",
       "      <th>24</th>\n",
       "      <td>change</td>\n",
       "      <td>&lt;class 'str'&gt;</td>\n",
       "      <td>object</td>\n",
       "      <td>0.000000</td>\n",
       "    </tr>\n",
       "    <tr>\n",
       "      <th>25</th>\n",
       "      <td>readmitted</td>\n",
       "      <td>&lt;class 'str'&gt;</td>\n",
       "      <td>object</td>\n",
       "      <td>0.000000</td>\n",
       "    </tr>\n",
       "  </tbody>\n",
       "</table>\n",
       "</div>"
      ],
      "text/plain": [
       "                     feature                  dtype    type  missing_ratio\n",
       "0               encounter_id  <class 'numpy.int64'>   int64       0.000000\n",
       "1                patient_nbr  <class 'numpy.int64'>   int64       0.000000\n",
       "2                       race          <class 'str'>  object       0.023071\n",
       "3                     gender          <class 'str'>  object       0.000035\n",
       "4                        age          <class 'str'>  object       0.000000\n",
       "5                     weight          <class 'str'>  object       0.970005\n",
       "6          admission_type_id  <class 'numpy.int64'>   int64       0.000000\n",
       "7   discharge_disposition_id  <class 'numpy.int64'>   int64       0.000000\n",
       "8        admission_source_id  <class 'numpy.int64'>   int64       0.000000\n",
       "9           time_in_hospital  <class 'numpy.int64'>   int64       0.000000\n",
       "10                payer_code          <class 'str'>  object       0.377831\n",
       "11         medical_specialty          <class 'str'>  object       0.484319\n",
       "12    primary_diagnosis_code          <class 'str'>  object       0.000230\n",
       "13     other_diagnosis_codes          <class 'str'>  object       0.002371\n",
       "14         number_outpatient  <class 'numpy.int64'>   int64       0.000000\n",
       "15          number_inpatient  <class 'numpy.int64'>   int64       0.000000\n",
       "16          number_emergency  <class 'numpy.int64'>   int64       0.000000\n",
       "17        num_lab_procedures  <class 'numpy.int64'>   int64       0.000000\n",
       "18          number_diagnoses  <class 'numpy.int64'>   int64       0.000000\n",
       "19           num_medications  <class 'numpy.int64'>   int64       0.000000\n",
       "20            num_procedures  <class 'numpy.int64'>   int64       0.000000\n",
       "21                  ndc_code        <class 'float'>  object       0.163585\n",
       "22             max_glu_serum          <class 'str'>  object       0.951089\n",
       "23                 A1Cresult          <class 'str'>  object       0.820295\n",
       "24                    change          <class 'str'>  object       0.000000\n",
       "25                readmitted          <class 'str'>  object       0.000000"
      ]
     },
     "execution_count": 136,
     "metadata": {},
     "output_type": "execute_result"
    }
   ],
   "source": [
    "types=[]\n",
    "tot = df.shape[0]\n",
    "for i in df.columns:\n",
    "    miss1 = df.loc[df[i].isna()].shape[0]\n",
    "    miss2=0\n",
    "    if type(df[i].values[0])==str:\n",
    "        miss2 = df.loc[df[i].isin(['?', '?|?', 'None','Unknown/Invalid'])].shape[0]\n",
    "    types.append([i, type(df[i].values[0]), df[i].dtype, (miss1+miss2)/tot])\n",
    "tmp = pd.DataFrame(types)\n",
    "tmp.columns=['feature','dtype','type','missing_ratio']\n",
    "tmp"
   ]
  },
  {
   "cell_type": "code",
   "execution_count": 87,
   "metadata": {},
   "outputs": [
    {
     "data": {
      "text/plain": [
       "0.16358489513609994"
      ]
     },
     "execution_count": 87,
     "metadata": {},
     "output_type": "execute_result"
    }
   ],
   "source": [
    "df.loc[(df.ndc_code.isna()) & (df.num_medications>0)].shape[0]/tot"
   ]
  },
  {
   "cell_type": "code",
   "execution_count": 88,
   "metadata": {},
   "outputs": [
    {
     "data": {
      "text/plain": [
       "(136409, 26)"
      ]
     },
     "execution_count": 88,
     "metadata": {},
     "output_type": "execute_result"
    }
   ],
   "source": [
    "df.loc[(df.max_glu_serum =='None') & (df.num_lab_procedures>0)].shape"
   ]
  },
  {
   "cell_type": "code",
   "execution_count": 91,
   "metadata": {},
   "outputs": [
    {
     "data": {
      "text/plain": [
       "encounter_id\n",
       "12522              [None, None]\n",
       "15738              [None, None]\n",
       "16680              [None, None]\n",
       "28236                    [None]\n",
       "35754                    [None]\n",
       "                    ...        \n",
       "443847548          [None, None]\n",
       "443847782                [None]\n",
       "443854148          [None, None]\n",
       "443857166    [None, None, None]\n",
       "443867222                [None]\n",
       "Name: max_glu_serum, Length: 101766, dtype: object"
      ]
     },
     "execution_count": 91,
     "metadata": {},
     "output_type": "execute_result"
    }
   ],
   "source": [
    "tmp = df.groupby('encounter_id').max_glu_serum.apply(list)\n",
    "tmp"
   ]
  },
  {
   "cell_type": "code",
   "execution_count": 111,
   "metadata": {},
   "outputs": [
    {
     "name": "stdout",
     "output_type": "stream",
     "text": [
      "time_in_hospital\n",
      "number_outpatient\n",
      "number_inpatient\n",
      "number_emergency\n",
      "num_lab_procedures\n",
      "number_diagnoses\n",
      "num_medications\n",
      "num_procedures\n"
     ]
    },
    {
     "data": {
      "image/png": "[encoded data removed]",
      "text/plain": [
       "<Figure size 432x288 with 8 Axes>"
      ]
     },
     "metadata": {
      "needs_background": "light"
     },
     "output_type": "display_data"
    }
   ],
   "source": [
    "for idx, i in enumerate(numericals):\n",
    "    print(i)\n",
    "    plt.subplot(4,2,idx+1)\n",
    "    df[i].hist()"
   ]
  },
  {
   "cell_type": "code",
   "execution_count": 121,
   "metadata": {},
   "outputs": [
    {
     "data": {
      "image/png": "[encoded data removed]",
      "text/plain": [
       "<Figure size 432x288 with 1 Axes>"
      ]
     },
     "metadata": {
      "needs_background": "light"
     },
     "output_type": "display_data"
    }
   ],
   "source": [
    "df.num_lab_procedures.hist();"
   ]
  },
  {
   "cell_type": "code",
   "execution_count": 122,
   "metadata": {},
   "outputs": [
    {
     "data": {
      "image/png": "[encoded data removed]",
      "text/plain": [
       "<Figure size 432x288 with 1 Axes>"
      ]
     },
     "metadata": {
      "needs_background": "light"
     },
     "output_type": "display_data"
    }
   ],
   "source": [
    "df.num_medications.hist();"
   ]
  },
  {
   "cell_type": "markdown",
   "metadata": {},
   "source": [
    "**OPTIONAL**: Use the Tensorflow Data Validation and Analysis library to complete. \n",
    "- The Tensorflow Data Validation and Analysis library(https://www.tensorflow.org/tfx/data_validation/get_started) is a useful tool for analyzing and summarizing dataset statistics. It is especially useful because it can scale to large datasets that do not fit into memory. \n",
    "- Note that there are some bugs that are still being resolved with Chrome v80 and we have moved away from using this for the project. \n"
   ]
  },
  {
   "cell_type": "code",
   "execution_count": 5,
   "metadata": {},
   "outputs": [
    {
     "name": "stdout",
     "output_type": "stream",
     "text": [
      "Collecting tensorflow-data-validation\n",
      "  Downloading tensorflow_data_validation-0.26.0-cp37-cp37m-manylinux2010_x86_64.whl (1.3 MB)\n",
      "\u001b[K     |████████████████████████████████| 1.3 MB 586 kB/s eta 0:00:01\n",
      "\u001b[?25hRequirement already satisfied: six<2,>=1.12 in /home/francois/anaconda3/envs/ehr/lib/python3.7/site-packages (from tensorflow-data-validation) (1.15.0)\n",
      "Requirement already satisfied: protobuf<4,>=3.9.2 in /home/francois/anaconda3/envs/ehr/lib/python3.7/site-packages (from tensorflow-data-validation) (3.14.0)\n",
      "Requirement already satisfied: numpy<2,>=1.16 in /home/francois/anaconda3/envs/ehr/lib/python3.7/site-packages (from tensorflow-data-validation) (1.19.5)\n",
      "Requirement already satisfied: pandas<2,>=1.0 in /home/francois/anaconda3/envs/ehr/lib/python3.7/site-packages (from tensorflow-data-validation) (1.2.0)\n",
      "Collecting absl-py<0.11,>=0.9\n",
      "  Downloading absl_py-0.10.0-py3-none-any.whl (127 kB)\n",
      "\u001b[K     |████████████████████████████████| 127 kB 1.2 MB/s eta 0:00:01\n",
      "\u001b[?25hCollecting apache-beam[gcp]!=2.26.*,<3,>=2.25\n",
      "  Downloading apache_beam-2.25.0-cp37-cp37m-manylinux2010_x86_64.whl (8.7 MB)\n",
      "\u001b[K     |████████████████████████████████| 8.7 MB 1.4 MB/s eta 0:00:01\n",
      "\u001b[?25hRequirement already satisfied: python-dateutil<3,>=2.8.0 in /home/francois/anaconda3/envs/ehr/lib/python3.7/site-packages (from apache-beam[gcp]!=2.26.*,<3,>=2.25->tensorflow-data-validation) (2.8.1)\n",
      "Requirement already satisfied: requests<3.0.0,>=2.24.0 in /home/francois/anaconda3/envs/ehr/lib/python3.7/site-packages (from apache-beam[gcp]!=2.26.*,<3,>=2.25->tensorflow-data-validation) (2.25.1)\n",
      "Requirement already satisfied: grpcio<2,>=1.29.0 in /home/francois/anaconda3/envs/ehr/lib/python3.7/site-packages (from apache-beam[gcp]!=2.26.*,<3,>=2.25->tensorflow-data-validation) (1.32.0)\n",
      "Requirement already satisfied: pytz>=2018.3 in /home/francois/anaconda3/envs/ehr/lib/python3.7/site-packages (from apache-beam[gcp]!=2.26.*,<3,>=2.25->tensorflow-data-validation) (2020.5)\n",
      "Requirement already satisfied: typing-extensions<3.8.0,>=3.7.0 in /home/francois/anaconda3/envs/ehr/lib/python3.7/site-packages (from apache-beam[gcp]!=2.26.*,<3,>=2.25->tensorflow-data-validation) (3.7.4.3)\n",
      "Requirement already satisfied: cachetools<5,>=3.1.0 in /home/francois/anaconda3/envs/ehr/lib/python3.7/site-packages (from apache-beam[gcp]!=2.26.*,<3,>=2.25->tensorflow-data-validation) (4.2.0)\n",
      "Requirement already satisfied: google-auth<2,>=1.18.0 in /home/francois/anaconda3/envs/ehr/lib/python3.7/site-packages (from apache-beam[gcp]!=2.26.*,<3,>=2.25->tensorflow-data-validation) (1.24.0)\n",
      "Collecting avro-python3!=1.9.2,<1.10.0,>=1.8.1\n",
      "  Downloading avro-python3-1.9.2.1.tar.gz (37 kB)\n",
      "Collecting crcmod<2.0,>=1.7\n",
      "  Downloading crcmod-1.7.tar.gz (89 kB)\n",
      "\u001b[K     |████████████████████████████████| 89 kB 650 kB/s eta 0:00:01\n",
      "\u001b[?25hCollecting dill<0.3.2,>=0.3.1.1\n",
      "  Downloading dill-0.3.1.1.tar.gz (151 kB)\n",
      "\u001b[K     |████████████████████████████████| 151 kB 1.1 MB/s eta 0:00:01\n",
      "\u001b[?25hCollecting fastavro<2,>=0.21.4\n",
      "  Downloading fastavro-1.2.3-cp37-cp37m-manylinux2014_x86_64.whl (2.0 MB)\n",
      "\u001b[K     |████████████████████████████████| 2.0 MB 1.3 MB/s eta 0:00:01\n",
      "\u001b[?25hCollecting future<1.0.0,>=0.18.2\n",
      "  Downloading future-0.18.2.tar.gz (829 kB)\n",
      "\u001b[K     |████████████████████████████████| 829 kB 1.2 MB/s eta 0:00:01\n",
      "\u001b[?25hCollecting google-apitools<0.5.32,>=0.5.31\n",
      "  Downloading google-apitools-0.5.31.tar.gz (173 kB)\n",
      "\u001b[K     |████████████████████████████████| 173 kB 1.3 MB/s eta 0:00:01\n",
      "\u001b[?25hCollecting fasteners>=0.14\n",
      "  Downloading fasteners-0.16-py2.py3-none-any.whl (28 kB)\n",
      "Requirement already satisfied: setuptools>=40.3.0 in /home/francois/anaconda3/envs/ehr/lib/python3.7/site-packages (from google-auth<2,>=1.18.0->apache-beam[gcp]!=2.26.*,<3,>=2.25->tensorflow-data-validation) (51.0.0.post20201207)\n",
      "Requirement already satisfied: pyasn1-modules>=0.2.1 in /home/francois/anaconda3/envs/ehr/lib/python3.7/site-packages (from google-auth<2,>=1.18.0->apache-beam[gcp]!=2.26.*,<3,>=2.25->tensorflow-data-validation) (0.2.8)\n",
      "Requirement already satisfied: rsa<5,>=3.1.4 in /home/francois/anaconda3/envs/ehr/lib/python3.7/site-packages (from google-auth<2,>=1.18.0->apache-beam[gcp]!=2.26.*,<3,>=2.25->tensorflow-data-validation) (4.6)\n",
      "Collecting google-cloud-bigquery<2,>=1.6.0\n",
      "  Downloading google_cloud_bigquery-1.28.0-py2.py3-none-any.whl (187 kB)\n",
      "\u001b[K     |████████████████████████████████| 187 kB 1.2 MB/s eta 0:00:01\n",
      "\u001b[?25hCollecting google-api-core<2.0dev,>=1.21.0\n",
      "  Downloading google_api_core-1.24.1-py2.py3-none-any.whl (92 kB)\n",
      "\u001b[K     |████████████████████████████████| 92 kB 702 kB/s eta 0:00:01\n",
      "\u001b[?25hCollecting google-cloud-bigtable<2,>=0.31.1\n",
      "  Downloading google_cloud_bigtable-1.6.1-py2.py3-none-any.whl (267 kB)\n",
      "\u001b[K     |████████████████████████████████| 267 kB 1.2 MB/s eta 0:00:01\n",
      "\u001b[?25hCollecting google-cloud-build<3,>=2.0.0\n",
      "  Downloading google_cloud_build-2.0.0-py2.py3-none-any.whl (67 kB)\n",
      "\u001b[K     |████████████████████████████████| 67 kB 543 kB/s eta 0:00:01\n",
      "\u001b[?25hCollecting google-cloud-core<2,>=0.28.1\n",
      "  Downloading google_cloud_core-1.5.0-py2.py3-none-any.whl (27 kB)\n",
      "Collecting google-cloud-datastore<2,>=1.7.1\n",
      "  Downloading google_cloud_datastore-1.15.3-py2.py3-none-any.whl (134 kB)\n",
      "\u001b[K     |████████████████████████████████| 134 kB 1.2 MB/s eta 0:00:01\n",
      "\u001b[?25hCollecting google-cloud-dlp<2,>=0.12.0\n",
      "  Downloading google_cloud_dlp-1.0.0-py2.py3-none-any.whl (169 kB)\n",
      "\u001b[K     |████████████████████████████████| 169 kB 1.1 MB/s eta 0:00:01\n",
      "\u001b[?25hCollecting google-cloud-language<2,>=1.3.0\n",
      "  Downloading google_cloud_language-1.3.0-py2.py3-none-any.whl (83 kB)\n",
      "\u001b[K     |████████████████████████████████| 83 kB 225 kB/s eta 0:00:01\n",
      "\u001b[?25hCollecting google-cloud-pubsub<2,>=0.39.0\n",
      "  Downloading google_cloud_pubsub-1.7.0-py2.py3-none-any.whl (144 kB)\n",
      "\u001b[K     |████████████████████████████████| 144 kB 1.1 MB/s eta 0:00:01\n",
      "\u001b[?25hCollecting google-cloud-spanner<2,>=1.13.0\n",
      "  Downloading google_cloud_spanner-1.19.1-py2.py3-none-any.whl (255 kB)\n",
      "\u001b[K     |████████████████████████████████| 255 kB 1.1 MB/s eta 0:00:01\n",
      "\u001b[?25hCollecting google-cloud-videointelligence<2,>=1.8.0\n",
      "  Downloading google_cloud_videointelligence-1.16.1-py2.py3-none-any.whl (183 kB)\n",
      "\u001b[K     |████████████████████████████████| 183 kB 1.1 MB/s eta 0:00:01\n",
      "\u001b[?25hCollecting google-cloud-vision<2,>=0.38.0\n",
      "  Downloading google_cloud_vision-1.0.0-py2.py3-none-any.whl (435 kB)\n",
      "\u001b[K     |████████████████████████████████| 435 kB 1.1 MB/s eta 0:00:01\n",
      "\u001b[?25hCollecting google-resumable-media<2.0dev,>=0.6.0\n",
      "  Downloading google_resumable_media-1.2.0-py2.py3-none-any.whl (75 kB)\n",
      "\u001b[K     |████████████████████████████████| 75 kB 468 kB/s eta 0:00:01\n",
      "\u001b[?25hCollecting google-crc32c<2.0dev,>=1.0\n",
      "  Downloading google_crc32c-1.1.0-cp37-cp37m-manylinux2010_x86_64.whl (39 kB)\n",
      "Requirement already satisfied: cffi>=1.0.0 in /home/francois/anaconda3/envs/ehr/lib/python3.7/site-packages (from google-crc32c<2.0dev,>=1.0->google-resumable-media<2.0dev,>=0.6.0->google-cloud-bigquery<2,>=1.6.0->apache-beam[gcp]!=2.26.*,<3,>=2.25->tensorflow-data-validation) (1.14.4)\n",
      "Requirement already satisfied: pycparser in /home/francois/anaconda3/envs/ehr/lib/python3.7/site-packages (from cffi>=1.0.0->google-crc32c<2.0dev,>=1.0->google-resumable-media<2.0dev,>=0.6.0->google-cloud-bigquery<2,>=1.6.0->apache-beam[gcp]!=2.26.*,<3,>=2.25->tensorflow-data-validation) (2.20)\n",
      "Collecting googleapis-common-protos<2.0dev,>=1.6.0\n",
      "  Downloading googleapis_common_protos-1.52.0-py2.py3-none-any.whl (100 kB)\n",
      "\u001b[K     |████████████████████████████████| 100 kB 812 kB/s ta 0:00:01\n",
      "\u001b[?25hCollecting grpc-google-iam-v1<0.13dev,>=0.12.3\n",
      "  Downloading grpc-google-iam-v1-0.12.3.tar.gz (13 kB)\n",
      "Collecting grpcio-gcp<1,>=0.2.2\n",
      "  Downloading grpcio_gcp-0.2.2-py2.py3-none-any.whl (9.4 kB)\n",
      "Collecting hdfs<3.0.0,>=2.1.0\n",
      "  Downloading hdfs-2.5.8.tar.gz (41 kB)\n",
      "\u001b[K     |████████████████████████████████| 41 kB 111 kB/s eta 0:00:01\n",
      "\u001b[?25hCollecting httplib2<0.18.0,>=0.8\n",
      "  Downloading httplib2-0.17.4-py3-none-any.whl (95 kB)\n",
      "\u001b[K     |████████████████████████████████| 95 kB 383 kB/s eta 0:00:01\n",
      "\u001b[?25hCollecting joblib<0.15,>=0.12\n",
      "  Downloading joblib-0.14.1-py2.py3-none-any.whl (294 kB)\n",
      "\u001b[K     |████████████████████████████████| 294 kB 1.1 MB/s eta 0:00:01\n",
      "\u001b[?25hCollecting libcst>=0.2.5\n"
     ]
    },
    {
     "name": "stdout",
     "output_type": "stream",
     "text": [
      "  Downloading libcst-0.3.16-py3-none-any.whl (505 kB)\n",
      "\u001b[K     |████████████████████████████████| 505 kB 1.1 MB/s eta 0:00:01\n",
      "\u001b[?25hRequirement already satisfied: pyyaml>=5.2 in /home/francois/anaconda3/envs/ehr/lib/python3.7/site-packages (from libcst>=0.2.5->google-cloud-build<3,>=2.0.0->apache-beam[gcp]!=2.26.*,<3,>=2.25->tensorflow-data-validation) (5.3.1)\n",
      "Collecting mock<3.0.0,>=1.0.1\n",
      "  Downloading mock-2.0.0-py2.py3-none-any.whl (56 kB)\n",
      "\u001b[K     |████████████████████████████████| 56 kB 338 kB/s eta 0:00:01\n",
      "\u001b[?25hCollecting oauth2client<5,>=2.0.1\n",
      "  Downloading oauth2client-4.1.3-py2.py3-none-any.whl (98 kB)\n",
      "\u001b[K     |████████████████████████████████| 98 kB 625 kB/s eta 0:00:01\n",
      "\u001b[?25hRequirement already satisfied: pyasn1>=0.1.7 in /home/francois/anaconda3/envs/ehr/lib/python3.7/site-packages (from oauth2client<5,>=2.0.1->apache-beam[gcp]!=2.26.*,<3,>=2.25->tensorflow-data-validation) (0.4.8)\n",
      "Collecting pbr>=0.11\n",
      "  Downloading pbr-5.5.1-py2.py3-none-any.whl (106 kB)\n",
      "\u001b[K     |████████████████████████████████| 106 kB 1.3 MB/s eta 0:00:01\n",
      "\u001b[?25hCollecting proto-plus>=0.4.0\n",
      "  Downloading proto-plus-1.13.0.tar.gz (44 kB)\n",
      "\u001b[K     |████████████████████████████████| 44 kB 317 kB/s eta 0:00:01\n",
      "\u001b[?25hCollecting pyarrow<0.18,>=0.17\n",
      "  Downloading pyarrow-0.17.1-cp37-cp37m-manylinux2014_x86_64.whl (63.8 MB)\n",
      "\u001b[K     |████████████████████████████████| 63.8 MB 81 kB/s  eta 0:00:01\n",
      "\u001b[?25hCollecting pydot<2,>=1.2.0\n",
      "  Downloading pydot-1.4.1-py2.py3-none-any.whl (19 kB)\n",
      "Requirement already satisfied: pyparsing>=2.1.4 in /home/francois/anaconda3/envs/ehr/lib/python3.7/site-packages (from pydot<2,>=1.2.0->apache-beam[gcp]!=2.26.*,<3,>=2.25->tensorflow-data-validation) (2.4.7)\n",
      "Collecting pymongo<4.0.0,>=3.8.0\n",
      "  Downloading pymongo-3.11.2-cp37-cp37m-manylinux2014_x86_64.whl (512 kB)\n",
      "\u001b[K     |████████████████████████████████| 512 kB 1.1 MB/s eta 0:00:01\n",
      "\u001b[?25hRequirement already satisfied: idna<3,>=2.5 in /home/francois/anaconda3/envs/ehr/lib/python3.7/site-packages (from requests<3.0.0,>=2.24.0->apache-beam[gcp]!=2.26.*,<3,>=2.25->tensorflow-data-validation) (2.10)\n",
      "Requirement already satisfied: certifi>=2017.4.17 in /home/francois/anaconda3/envs/ehr/lib/python3.7/site-packages (from requests<3.0.0,>=2.24.0->apache-beam[gcp]!=2.26.*,<3,>=2.25->tensorflow-data-validation) (2020.12.5)\n",
      "Requirement already satisfied: urllib3<1.27,>=1.21.1 in /home/francois/anaconda3/envs/ehr/lib/python3.7/site-packages (from requests<3.0.0,>=2.24.0->apache-beam[gcp]!=2.26.*,<3,>=2.25->tensorflow-data-validation) (1.26.2)\n",
      "Requirement already satisfied: chardet<5,>=3.0.2 in /home/francois/anaconda3/envs/ehr/lib/python3.7/site-packages (from requests<3.0.0,>=2.24.0->apache-beam[gcp]!=2.26.*,<3,>=2.25->tensorflow-data-validation) (4.0.0)\n",
      "Collecting tensorflow!=2.0.*,!=2.1.*,!=2.2.*,!=2.4.*,<3,>=1.15.2\n",
      "  Downloading tensorflow-2.3.2-cp37-cp37m-manylinux2010_x86_64.whl (320.4 MB)\n",
      "\u001b[K     |████████████████████████████████| 320.4 MB 8.0 kB/s eta 0:00:01    |██                              | 20.1 MB 700 kB/s eta 0:07:09     |███▎                            | 33.3 MB 1.2 MB/s eta 0:03:56     |██████████████████████████▌     | 264.9 MB 1.4 MB/s eta 0:00:40     |██████████████████████████▉     | 269.1 MB 1.1 MB/s eta 0:00:46     |██████████████████████████████▎ | 302.8 MB 1.1 MB/s eta 0:00:16\n",
      "\u001b[?25hRequirement already satisfied: opt-einsum>=2.3.2 in /home/francois/anaconda3/envs/ehr/lib/python3.7/site-packages (from tensorflow!=2.0.*,!=2.1.*,!=2.2.*,!=2.4.*,<3,>=1.15.2->tensorflow-data-validation) (3.3.0)\n",
      "Requirement already satisfied: keras-preprocessing<1.2,>=1.1.1 in /home/francois/anaconda3/envs/ehr/lib/python3.7/site-packages (from tensorflow!=2.0.*,!=2.1.*,!=2.2.*,!=2.4.*,<3,>=1.15.2->tensorflow-data-validation) (1.1.2)\n",
      "Requirement already satisfied: gast==0.3.3 in /home/francois/anaconda3/envs/ehr/lib/python3.7/site-packages (from tensorflow!=2.0.*,!=2.1.*,!=2.2.*,!=2.4.*,<3,>=1.15.2->tensorflow-data-validation) (0.3.3)\n",
      "Requirement already satisfied: h5py<2.11.0,>=2.10.0 in /home/francois/anaconda3/envs/ehr/lib/python3.7/site-packages (from tensorflow!=2.0.*,!=2.1.*,!=2.2.*,!=2.4.*,<3,>=1.15.2->tensorflow-data-validation) (2.10.0)\n",
      "Requirement already satisfied: astunparse==1.6.3 in /home/francois/anaconda3/envs/ehr/lib/python3.7/site-packages (from tensorflow!=2.0.*,!=2.1.*,!=2.2.*,!=2.4.*,<3,>=1.15.2->tensorflow-data-validation) (1.6.3)\n",
      "Requirement already satisfied: wrapt>=1.11.1 in /home/francois/anaconda3/envs/ehr/lib/python3.7/site-packages (from tensorflow!=2.0.*,!=2.1.*,!=2.2.*,!=2.4.*,<3,>=1.15.2->tensorflow-data-validation) (1.12.1)\n",
      "Requirement already satisfied: google-pasta>=0.1.8 in /home/francois/anaconda3/envs/ehr/lib/python3.7/site-packages (from tensorflow!=2.0.*,!=2.1.*,!=2.2.*,!=2.4.*,<3,>=1.15.2->tensorflow-data-validation) (0.2.0)\n",
      "Requirement already satisfied: tensorboard<3,>=2.3.0 in /home/francois/anaconda3/envs/ehr/lib/python3.7/site-packages (from tensorflow!=2.0.*,!=2.1.*,!=2.2.*,!=2.4.*,<3,>=1.15.2->tensorflow-data-validation) (2.4.0)\n",
      "Requirement already satisfied: wheel>=0.26 in /home/francois/anaconda3/envs/ehr/lib/python3.7/site-packages (from tensorflow!=2.0.*,!=2.1.*,!=2.2.*,!=2.4.*,<3,>=1.15.2->tensorflow-data-validation) (0.36.2)\n",
      "Requirement already satisfied: termcolor>=1.1.0 in /home/francois/anaconda3/envs/ehr/lib/python3.7/site-packages (from tensorflow!=2.0.*,!=2.1.*,!=2.2.*,!=2.4.*,<3,>=1.15.2->tensorflow-data-validation) (1.1.0)\n",
      "Collecting numpy<2,>=1.16\n",
      "  Downloading numpy-1.18.5-cp37-cp37m-manylinux1_x86_64.whl (20.1 MB)\n",
      "\u001b[K     |████████████████████████████████| 20.1 MB 1.2 MB/s eta 0:00:01\n",
      "\u001b[?25hRequirement already satisfied: werkzeug>=0.11.15 in /home/francois/anaconda3/envs/ehr/lib/python3.7/site-packages (from tensorboard<3,>=2.3.0->tensorflow!=2.0.*,!=2.1.*,!=2.2.*,!=2.4.*,<3,>=1.15.2->tensorflow-data-validation) (1.0.1)\n",
      "Requirement already satisfied: tensorboard-plugin-wit>=1.6.0 in /home/francois/anaconda3/envs/ehr/lib/python3.7/site-packages (from tensorboard<3,>=2.3.0->tensorflow!=2.0.*,!=2.1.*,!=2.2.*,!=2.4.*,<3,>=1.15.2->tensorflow-data-validation) (1.7.0)\n",
      "Requirement already satisfied: markdown>=2.6.8 in /home/francois/anaconda3/envs/ehr/lib/python3.7/site-packages (from tensorboard<3,>=2.3.0->tensorflow!=2.0.*,!=2.1.*,!=2.2.*,!=2.4.*,<3,>=1.15.2->tensorflow-data-validation) (3.3.3)\n",
      "Requirement already satisfied: google-auth-oauthlib<0.5,>=0.4.1 in /home/francois/anaconda3/envs/ehr/lib/python3.7/site-packages (from tensorboard<3,>=2.3.0->tensorflow!=2.0.*,!=2.1.*,!=2.2.*,!=2.4.*,<3,>=1.15.2->tensorflow-data-validation) (0.4.2)\n",
      "Requirement already satisfied: requests-oauthlib>=0.7.0 in /home/francois/anaconda3/envs/ehr/lib/python3.7/site-packages (from google-auth-oauthlib<0.5,>=0.4.1->tensorboard<3,>=2.3.0->tensorflow!=2.0.*,!=2.1.*,!=2.2.*,!=2.4.*,<3,>=1.15.2->tensorflow-data-validation) (1.3.0)\n",
      "Requirement already satisfied: importlib-metadata in /home/francois/anaconda3/envs/ehr/lib/python3.7/site-packages (from markdown>=2.6.8->tensorboard<3,>=2.3.0->tensorflow!=2.0.*,!=2.1.*,!=2.2.*,!=2.4.*,<3,>=1.15.2->tensorflow-data-validation) (3.3.0)\n",
      "Requirement already satisfied: oauthlib>=3.0.0 in /home/francois/anaconda3/envs/ehr/lib/python3.7/site-packages (from requests-oauthlib>=0.7.0->google-auth-oauthlib<0.5,>=0.4.1->tensorboard<3,>=2.3.0->tensorflow!=2.0.*,!=2.1.*,!=2.2.*,!=2.4.*,<3,>=1.15.2->tensorflow-data-validation) (3.1.0)\n",
      "Collecting tensorflow-estimator<2.4.0,>=2.3.0\n",
      "  Downloading tensorflow_estimator-2.3.0-py2.py3-none-any.whl (459 kB)\n",
      "\u001b[K     |████████████████████████████████| 459 kB 1.1 MB/s eta 0:00:01\n",
      "\u001b[?25hCollecting tensorflow-metadata<0.27,>=0.26\n",
      "  Downloading tensorflow_metadata-0.26.0-py3-none-any.whl (47 kB)\n",
      "\u001b[K     |████████████████████████████████| 47 kB 570 kB/s eta 0:00:01\n",
      "\u001b[?25hCollecting tensorflow-transform<0.27,>=0.26\n",
      "  Downloading tensorflow_transform-0.26.0-py3-none-any.whl (380 kB)\n",
      "\u001b[K     |████████████████████████████████| 380 kB 1.1 MB/s eta 0:00:01\n",
      "\u001b[?25hCollecting tfx-bsl<0.27,>=0.26\n",
      "  Downloading tfx_bsl-0.26.1-cp37-cp37m-manylinux2010_x86_64.whl (2.2 MB)\n",
      "\u001b[K     |████████████████████████████████| 2.2 MB 1.1 MB/s eta 0:00:01\n",
      "\u001b[?25hCollecting google-api-python-client<2,>=1.7.11\n",
      "  Downloading google_api_python_client-1.12.8-py2.py3-none-any.whl (61 kB)\n"
     ]
    },
    {
     "name": "stdout",
     "output_type": "stream",
     "text": [
      "\u001b[K     |████████████████████████████████| 61 kB 4.6 kB/s eta 0:00:01\n",
      "\u001b[?25hCollecting google-auth-httplib2>=0.0.3\n",
      "  Downloading google_auth_httplib2-0.0.4-py2.py3-none-any.whl (9.1 kB)\n",
      "Collecting tensorflow-serving-api!=2.0.*,!=2.1.*,!=2.2.*,!=2.4.*,<3,>=1.15\n",
      "  Downloading tensorflow_serving_api-2.3.0-py2.py3-none-any.whl (38 kB)\n",
      "Collecting typing-inspect>=0.4.0\n",
      "  Downloading typing_inspect-0.6.0-py3-none-any.whl (8.1 kB)\n",
      "Collecting mypy-extensions>=0.3.0\n",
      "  Downloading mypy_extensions-0.4.3-py2.py3-none-any.whl (4.5 kB)\n",
      "Collecting uritemplate<4dev,>=3.0.0\n",
      "  Downloading uritemplate-3.0.1-py2.py3-none-any.whl (15 kB)\n",
      "Collecting docopt\n",
      "  Downloading docopt-0.6.2.tar.gz (25 kB)\n",
      "Requirement already satisfied: zipp>=0.5 in /home/francois/anaconda3/envs/ehr/lib/python3.7/site-packages (from importlib-metadata->markdown>=2.6.8->tensorboard<3,>=2.3.0->tensorflow!=2.0.*,!=2.1.*,!=2.2.*,!=2.4.*,<3,>=1.15.2->tensorflow-data-validation) (3.4.0)\n",
      "Building wheels for collected packages: avro-python3, crcmod, dill, future, google-apitools, grpc-google-iam-v1, hdfs, proto-plus, docopt\n",
      "  Building wheel for avro-python3 (setup.py) ... \u001b[?25ldone\n",
      "\u001b[?25h  Created wheel for avro-python3: filename=avro_python3-1.9.2.1-py3-none-any.whl size=43512 sha256=0e8d397d6d870433a8134106f44eb014912cacef082708367aab18e0154a7851\n",
      "  Stored in directory: /home/francois/.cache/pip/wheels/bc/49/5f/fdb5b9d85055c478213e0158ac122b596816149a02d82e0ab1\n",
      "  Building wheel for crcmod (setup.py) ... \u001b[?25ldone\n",
      "\u001b[?25h  Created wheel for crcmod: filename=crcmod-1.7-cp37-cp37m-linux_x86_64.whl size=36527 sha256=5f4963cad46ff681c7d97c0b40aaa30a69cd35ebb4c9422106f08297b1240d3d\n",
      "  Stored in directory: /home/francois/.cache/pip/wheels/dc/9a/e9/49e627353476cec8484343c4ab656f1e0d783ee77b9dde2d1f\n",
      "  Building wheel for dill (setup.py) ... \u001b[?25ldone\n",
      "\u001b[?25h  Created wheel for dill: filename=dill-0.3.1.1-py3-none-any.whl size=78532 sha256=32f897f4efe4386f6e227213f8624e237142411c449fbfc2f74e868b66b832f7\n",
      "  Stored in directory: /home/francois/.cache/pip/wheels/a4/61/fd/c57e374e580aa78a45ed78d5859b3a44436af17e22ca53284f\n",
      "  Building wheel for future (setup.py) ... \u001b[?25ldone\n",
      "\u001b[?25h  Created wheel for future: filename=future-0.18.2-py3-none-any.whl size=491059 sha256=24c74050bcbf7aa7b79168b83d11141b5fa1594d7e4950bab03684f6ccd35ca8\n",
      "  Stored in directory: /home/francois/.cache/pip/wheels/56/b0/fe/4410d17b32f1f0c3cf54cdfb2bc04d7b4b8f4ae377e2229ba0\n",
      "  Building wheel for google-apitools (setup.py) ... \u001b[?25ldone\n",
      "\u001b[?25h  Created wheel for google-apitools: filename=google_apitools-0.5.31-py3-none-any.whl size=131041 sha256=5d75bdb97fffeeb960ebb823773ae8b727b6a9c1a5f24e2425621c24b5004a89\n",
      "  Stored in directory: /home/francois/.cache/pip/wheels/19/b5/2f/1cc3cf2b31e7a9cd1508731212526d9550271274d351c96f16\n",
      "  Building wheel for grpc-google-iam-v1 (setup.py) ... \u001b[?25ldone\n",
      "\u001b[?25h  Created wheel for grpc-google-iam-v1: filename=grpc_google_iam_v1-0.12.3-py3-none-any.whl size=18499 sha256=6e8f0ebf9091922158afdc9a702572a224fac589d5b5ca628ab6e963ee22c0fa\n",
      "  Stored in directory: /home/francois/.cache/pip/wheels/b9/ee/67/2e444183030cb8d31ce8b34cee34a7afdbd3ba5959ea846380\n",
      "  Building wheel for hdfs (setup.py) ... \u001b[?25ldone\n",
      "\u001b[?25h  Created wheel for hdfs: filename=hdfs-2.5.8-py3-none-any.whl size=33213 sha256=b2928ea0a5d1c00d0bf80ab9fcd1b7af8ff42767223eda445dd9807f4ba560bb\n",
      "  Stored in directory: /home/francois/.cache/pip/wheels/0a/7d/38/ea4eaf831518e6cd867b515b88919a9785eb66f11def5ab859\n",
      "  Building wheel for proto-plus (setup.py) ... \u001b[?25ldone\n",
      "\u001b[?25h  Created wheel for proto-plus: filename=proto_plus-1.13.0-py3-none-any.whl size=41592 sha256=1da7edff68106e00e842f889bf6a4b6430f1b3cb569287d100d47b6ad9bee9e9\n",
      "  Stored in directory: /home/francois/.cache/pip/wheels/7e/5d/3e/a097fe0793f1b35b798804db8187bbe1589b77439a39375f9e\n",
      "  Building wheel for docopt (setup.py) ... \u001b[?25ldone\n",
      "\u001b[?25h  Created wheel for docopt: filename=docopt-0.6.2-py2.py3-none-any.whl size=13705 sha256=ab2d7adb2aea5d25e950ad0e6ad439f500830a784f8373d96aa70d2b402abfa7\n",
      "  Stored in directory: /home/francois/.cache/pip/wheels/72/b0/3f/1d95f96ff986c7dfffe46ce2be4062f38ebd04b506c77c81b9\n",
      "Successfully built avro-python3 crcmod dill future google-apitools grpc-google-iam-v1 hdfs proto-plus docopt\n",
      "Installing collected packages: mypy-extensions, googleapis-common-protos, typing-inspect, pbr, numpy, httplib2, grpcio-gcp, google-crc32c, google-api-core, docopt, absl-py, tensorflow-estimator, pymongo, pydot, pyarrow, proto-plus, oauth2client, mock, libcst, hdfs, grpc-google-iam-v1, google-resumable-media, google-cloud-core, future, fasteners, fastavro, dill, crcmod, avro-python3, uritemplate, tensorflow, google-cloud-vision, google-cloud-videointelligence, google-cloud-spanner, google-cloud-pubsub, google-cloud-language, google-cloud-dlp, google-cloud-datastore, google-cloud-build, google-cloud-bigtable, google-cloud-bigquery, google-auth-httplib2, google-apitools, apache-beam, tensorflow-serving-api, tensorflow-metadata, google-api-python-client, tfx-bsl, tensorflow-transform, joblib, tensorflow-data-validation\n",
      "  Attempting uninstall: numpy\n",
      "    Found existing installation: numpy 1.19.5\n",
      "    Uninstalling numpy-1.19.5:\n",
      "      Successfully uninstalled numpy-1.19.5\n",
      "  Attempting uninstall: httplib2\n",
      "    Found existing installation: httplib2 0.18.1\n",
      "    Uninstalling httplib2-0.18.1:\n",
      "      Successfully uninstalled httplib2-0.18.1\n",
      "  Attempting uninstall: absl-py\n",
      "    Found existing installation: absl-py 0.11.0\n",
      "    Uninstalling absl-py-0.11.0:\n",
      "      Successfully uninstalled absl-py-0.11.0\n",
      "  Attempting uninstall: tensorflow-estimator\n",
      "    Found existing installation: tensorflow-estimator 2.4.0\n",
      "    Uninstalling tensorflow-estimator-2.4.0:\n",
      "      Successfully uninstalled tensorflow-estimator-2.4.0\n",
      "  Attempting uninstall: tensorflow\n",
      "    Found existing installation: tensorflow 2.4.0\n",
      "    Uninstalling tensorflow-2.4.0:\n",
      "      Successfully uninstalled tensorflow-2.4.0\n",
      "Successfully installed absl-py-0.10.0 apache-beam-2.25.0 avro-python3-1.9.2.1 crcmod-1.7 dill-0.3.1.1 docopt-0.6.2 fastavro-1.2.3 fasteners-0.16 future-0.18.2 google-api-core-1.24.1 google-api-python-client-1.12.8 google-apitools-0.5.31 google-auth-httplib2-0.0.4 google-cloud-bigquery-1.28.0 google-cloud-bigtable-1.6.1 google-cloud-build-2.0.0 google-cloud-core-1.5.0 google-cloud-datastore-1.15.3 google-cloud-dlp-1.0.0 google-cloud-language-1.3.0 google-cloud-pubsub-1.7.0 google-cloud-spanner-1.19.1 google-cloud-videointelligence-1.16.1 google-cloud-vision-1.0.0 google-crc32c-1.1.0 google-resumable-media-1.2.0 googleapis-common-protos-1.52.0 grpc-google-iam-v1-0.12.3 grpcio-gcp-0.2.2 hdfs-2.5.8 httplib2-0.17.4 joblib-0.14.1 libcst-0.3.16 mock-2.0.0 mypy-extensions-0.4.3 numpy-1.18.5 oauth2client-4.1.3 pbr-5.5.1 proto-plus-1.13.0 pyarrow-0.17.1 pydot-1.4.1 pymongo-3.11.2 tensorflow-2.3.2 tensorflow-data-validation-0.26.0 tensorflow-estimator-2.3.0 tensorflow-metadata-0.26.0 tensorflow-serving-api-2.3.0 tensorflow-transform-0.26.0 tfx-bsl-0.26.1 typing-inspect-0.6.0 uritemplate-3.0.1\n"
     ]
    }
   ],
   "source": [
    "!pip install tensorflow-data-validation"
   ]
  },
  {
   "cell_type": "code",
   "execution_count": 6,
   "metadata": {},
   "outputs": [
    {
     "name": "stderr",
     "output_type": "stream",
     "text": [
      "WARNING:apache_beam.runners.interactive.interactive_environment:Dependencies required for Interactive Beam PCollection visualization are not available, please use: `pip install apache-beam[interactive]` to install necessary dependencies to enable all data visualization features.\n"
     ]
    },
    {
     "data": {
      "application/javascript": [
       "\n",
       "        if (typeof window.interactive_beam_jquery == 'undefined') {\n",
       "          var jqueryScript = document.createElement('script');\n",
       "          jqueryScript.src = 'https://code.jquery.com/jquery-3.4.1.slim.min.js';\n",
       "          jqueryScript.type = 'text/javascript';\n",
       "          jqueryScript.onload = function() {\n",
       "            var datatableScript = document.createElement('script');\n",
       "            datatableScript.src = 'https://cdn.datatables.net/1.10.20/js/jquery.dataTables.min.js';\n",
       "            datatableScript.type = 'text/javascript';\n",
       "            datatableScript.onload = function() {\n",
       "              window.interactive_beam_jquery = jQuery.noConflict(true);\n",
       "              window.interactive_beam_jquery(document).ready(function($){\n",
       "                \n",
       "              });\n",
       "            }\n",
       "            document.head.appendChild(datatableScript);\n",
       "          };\n",
       "          document.head.appendChild(jqueryScript);\n",
       "        } else {\n",
       "          window.interactive_beam_jquery(document).ready(function($){\n",
       "            \n",
       "          });\n",
       "        }"
      ]
     },
     "metadata": {},
     "output_type": "display_data"
    },
    {
     "data": {
      "application/javascript": [
       "\n",
       "        var import_html = () => {\n",
       "          ['https://raw.githubusercontent.com/PAIR-code/facets/1.0.0/facets-dist/facets-jupyter.html'].forEach(href => {\n",
       "            var link = document.createElement('link');\n",
       "            link.rel = 'import'\n",
       "            link.href = href;\n",
       "            document.head.appendChild(link);\n",
       "          });\n",
       "        }\n",
       "        if ('import' in document.createElement('link')) {\n",
       "          import_html();\n",
       "        } else {\n",
       "          var webcomponentScript = document.createElement('script');\n",
       "          webcomponentScript.src = 'https://cdnjs.cloudflare.com/ajax/libs/webcomponentsjs/1.3.3/webcomponents-lite.js';\n",
       "          webcomponentScript.type = 'text/javascript';\n",
       "          webcomponentScript.onload = function(){\n",
       "            import_html();\n",
       "          };\n",
       "          document.head.appendChild(webcomponentScript);\n",
       "        }"
      ]
     },
     "metadata": {},
     "output_type": "display_data"
    },
    {
     "name": "stderr",
     "output_type": "stream",
     "text": [
      "WARNING:apache_beam.io.tfrecordio:Couldn't find python-snappy so the implementation of _TFRecordUtil._masked_crc32c is not as fast as it could be.\n"
     ]
    },
    {
     "name": "stdout",
     "output_type": "stream",
     "text": [
      "WARNING:tensorflow:From /home/francois/anaconda3/envs/ehr/lib/python3.7/site-packages/tensorflow_data_validation/utils/stats_util.py:247: tf_record_iterator (from tensorflow.python.lib.io.tf_record) is deprecated and will be removed in a future version.\n",
      "Instructions for updating:\n",
      "Use eager execution and: \n",
      "`tf.data.TFRecordDataset(path)`\n"
     ]
    },
    {
     "name": "stderr",
     "output_type": "stream",
     "text": [
      "WARNING:tensorflow:From /home/francois/anaconda3/envs/ehr/lib/python3.7/site-packages/tensorflow_data_validation/utils/stats_util.py:247: tf_record_iterator (from tensorflow.python.lib.io.tf_record) is deprecated and will be removed in a future version.\n",
      "Instructions for updating:\n",
      "Use eager execution and: \n",
      "`tf.data.TFRecordDataset(path)`\n"
     ]
    },
    {
     "data": {
      "text/html": [
       "<iframe id='facets-iframe' width=\"100%\" height=\"500px\"></iframe>\n",
       "        <script>\n",
       "        facets_iframe = document.getElementById('facets-iframe');\n",
       "        facets_html = '<script src=\"https://cdnjs.cloudflare.com/ajax/libs/webcomponentsjs/1.3.3/webcomponents-lite.js\"><\\/script><link rel=\"import\" href=\"https://raw.githubusercontent.com/PAIR-code/facets/master/facets-dist/facets-jupyter.html\"><facets-overview proto-input=\"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\"></facets-overview>';\n",
       "        facets_iframe.srcdoc = facets_html;\n",
       "         facets_iframe.id = \"\";\n",
       "         setTimeout(() => {\n",
       "           facets_iframe.setAttribute('height', facets_iframe.contentWindow.document.body.offsetHeight + 'px')\n",
       "         }, 1500)\n",
       "         </script>"
      ],
      "text/plain": [
       "<IPython.core.display.HTML object>"
      ]
     },
     "metadata": {},
     "output_type": "display_data"
    }
   ],
   "source": [
    "######NOTE: The visualization will only display in Chrome browser. ########\n",
    "import tensorflow_data_validation as tfdv\n",
    "full_data_stats = tfdv.generate_statistics_from_csv(data_location=dataset_path) \n",
    "tfdv.visualize_statistics(full_data_stats)\n",
    "#doesn't work for me. Moreover tensorflow-data-validation is not compatible with tensorflow 2.4 whish is required for tensorflow-probability."
   ]
  },
  {
   "cell_type": "code",
   "execution_count": 7,
   "metadata": {},
   "outputs": [
    {
     "name": "stdout",
     "output_type": "stream",
     "text": [
      "ShapiroResult(statistic=0.9827405214309692, pvalue=1.6873188402044548e-09)\n",
      "ShapiroResult(statistic=0.8969937562942505, pvalue=2.416772511643525e-25)\n"
     ]
    }
   ],
   "source": [
    "from scipy import stats\n",
    "print(stats.shapiro(df.sample(1000).num_lab_procedures.values))\n",
    "print(stats.shapiro(df.sample(1000).num_medications.values))"
   ]
  },
  {
   "cell_type": "code",
   "execution_count": 129,
   "metadata": {},
   "outputs": [
    {
     "data": {
      "text/html": [
       "<div>\n",
       "<style scoped>\n",
       "    .dataframe tbody tr th:only-of-type {\n",
       "        vertical-align: middle;\n",
       "    }\n",
       "\n",
       "    .dataframe tbody tr th {\n",
       "        vertical-align: top;\n",
       "    }\n",
       "\n",
       "    .dataframe thead th {\n",
       "        text-align: right;\n",
       "    }\n",
       "</style>\n",
       "<table border=\"1\" class=\"dataframe\">\n",
       "  <thead>\n",
       "    <tr style=\"text-align: right;\">\n",
       "      <th></th>\n",
       "      <th>feature</th>\n",
       "      <th>cardinality</th>\n",
       "    </tr>\n",
       "  </thead>\n",
       "  <tbody>\n",
       "    <tr>\n",
       "      <th>15</th>\n",
       "      <td>encounter_id</td>\n",
       "      <td>101766</td>\n",
       "    </tr>\n",
       "    <tr>\n",
       "      <th>8</th>\n",
       "      <td>patient_nbr</td>\n",
       "      <td>71518</td>\n",
       "    </tr>\n",
       "    <tr>\n",
       "      <th>1</th>\n",
       "      <td>other_diagnosis_codes</td>\n",
       "      <td>19374</td>\n",
       "    </tr>\n",
       "    <tr>\n",
       "      <th>0</th>\n",
       "      <td>primary_diagnosis_code</td>\n",
       "      <td>717</td>\n",
       "    </tr>\n",
       "    <tr>\n",
       "      <th>17</th>\n",
       "      <td>ndc_code</td>\n",
       "      <td>252</td>\n",
       "    </tr>\n",
       "    <tr>\n",
       "      <th>11</th>\n",
       "      <td>medical_specialty</td>\n",
       "      <td>73</td>\n",
       "    </tr>\n",
       "    <tr>\n",
       "      <th>5</th>\n",
       "      <td>discharge_disposition_id</td>\n",
       "      <td>26</td>\n",
       "    </tr>\n",
       "    <tr>\n",
       "      <th>13</th>\n",
       "      <td>payer_code</td>\n",
       "      <td>18</td>\n",
       "    </tr>\n",
       "    <tr>\n",
       "      <th>2</th>\n",
       "      <td>admission_source_id</td>\n",
       "      <td>17</td>\n",
       "    </tr>\n",
       "    <tr>\n",
       "      <th>10</th>\n",
       "      <td>age</td>\n",
       "      <td>10</td>\n",
       "    </tr>\n",
       "    <tr>\n",
       "      <th>12</th>\n",
       "      <td>weight</td>\n",
       "      <td>10</td>\n",
       "    </tr>\n",
       "    <tr>\n",
       "      <th>14</th>\n",
       "      <td>admission_type_id</td>\n",
       "      <td>8</td>\n",
       "    </tr>\n",
       "    <tr>\n",
       "      <th>4</th>\n",
       "      <td>race</td>\n",
       "      <td>6</td>\n",
       "    </tr>\n",
       "    <tr>\n",
       "      <th>6</th>\n",
       "      <td>A1Cresult</td>\n",
       "      <td>4</td>\n",
       "    </tr>\n",
       "    <tr>\n",
       "      <th>9</th>\n",
       "      <td>max_glu_serum</td>\n",
       "      <td>4</td>\n",
       "    </tr>\n",
       "    <tr>\n",
       "      <th>7</th>\n",
       "      <td>gender</td>\n",
       "      <td>3</td>\n",
       "    </tr>\n",
       "    <tr>\n",
       "      <th>16</th>\n",
       "      <td>readmitted</td>\n",
       "      <td>3</td>\n",
       "    </tr>\n",
       "    <tr>\n",
       "      <th>3</th>\n",
       "      <td>change</td>\n",
       "      <td>2</td>\n",
       "    </tr>\n",
       "  </tbody>\n",
       "</table>\n",
       "</div>"
      ],
      "text/plain": [
       "                     feature  cardinality\n",
       "15              encounter_id       101766\n",
       "8                patient_nbr        71518\n",
       "1      other_diagnosis_codes        19374\n",
       "0     primary_diagnosis_code          717\n",
       "17                  ndc_code          252\n",
       "11         medical_specialty           73\n",
       "5   discharge_disposition_id           26\n",
       "13                payer_code           18\n",
       "2        admission_source_id           17\n",
       "10                       age           10\n",
       "12                    weight           10\n",
       "14         admission_type_id            8\n",
       "4                       race            6\n",
       "6                  A1Cresult            4\n",
       "9              max_glu_serum            4\n",
       "7                     gender            3\n",
       "16                readmitted            3\n",
       "3                     change            2"
      ]
     },
     "execution_count": 129,
     "metadata": {},
     "output_type": "execute_result"
    }
   ],
   "source": [
    "cardinals=[]\n",
    "for i in set(df.columns)-set(numericals):\n",
    "    cardinals.append([i, len(df[i].unique())])\n",
    "tmp = pd.DataFrame(cardinals)\n",
    "tmp.columns = ['feature', 'cardinality']\n",
    "tmp.sort_values('cardinality', ascending=False)"
   ]
  },
  {
   "cell_type": "code",
   "execution_count": 132,
   "metadata": {},
   "outputs": [
    {
     "data": {
      "image/png": "[encoded data removed]",
      "text/plain": [
       "<Figure size 432x288 with 1 Axes>"
      ]
     },
     "metadata": {
      "needs_background": "light"
     },
     "output_type": "display_data"
    }
   ],
   "source": [
    "df.age.hist();"
   ]
  },
  {
   "cell_type": "code",
   "execution_count": 138,
   "metadata": {},
   "outputs": [
    {
     "data": {
      "text/plain": [
       "count      143424\n",
       "unique         10\n",
       "top       [70-80)\n",
       "freq        36928\n",
       "Name: age, dtype: object"
      ]
     },
     "execution_count": 138,
     "metadata": {},
     "output_type": "execute_result"
    }
   ],
   "source": [
    "df.age.describe()"
   ]
  },
  {
   "cell_type": "code",
   "execution_count": 134,
   "metadata": {},
   "outputs": [
    {
     "data": {
      "image/png": "[encoded data removed]",
      "text/plain": [
       "<Figure size 432x288 with 1 Axes>"
      ]
     },
     "metadata": {
      "needs_background": "light"
     },
     "output_type": "display_data"
    }
   ],
   "source": [
    "df.gender.hist();"
   ]
  },
  {
   "cell_type": "code",
   "execution_count": 137,
   "metadata": {},
   "outputs": [
    {
     "data": {
      "text/plain": [
       "1.1331320462861052"
      ]
     },
     "execution_count": 137,
     "metadata": {},
     "output_type": "execute_result"
    }
   ],
   "source": [
    "df.loc[df.gender=='Female'].shape[0]/df.loc[df.gender=='Male'].shape[0]"
   ]
  },
  {
   "cell_type": "markdown",
   "metadata": {},
   "source": [
    "a) Medical_specialty, payer_code and ndc_code are missing in more than 15% of the cases. \n",
    "However ndc_codes should be mentionned if it is a line of medication and checking missing ndc_code for lines where num_medication is >0 return the same results so ndc_code are trully missing.\n",
    "Moreover max_glu_serum and A1Cresult are not available in more than 80% of the lines. Exploring missing values for max_glu_serum for an encounter returns also missing values for all lines of the encounter.\n",
    "\n",
    "b) From numerical values only num_lab_procedures and num_medications are close to normal.\n",
    "\n",
    "c) other_diagnosis_codes, primary_diagnosis_code and ndc_code have hight cardinality and could be embedded. On the other side, patient_nbr, encounter_id and encounter are quasi-unique identifier and should not be used as features.\n",
    "\n",
    "d) The female/male ratio is equal to 1.13. Ages distribution is increasing until 70-80 years (the top of fraquencies of distribution) and drop until 100 years."
   ]
  },
  {
   "cell_type": "markdown",
   "metadata": {},
   "source": [
    "## Reduce Dimensionality of the NDC Code Feature"
   ]
  },
  {
   "cell_type": "markdown",
   "metadata": {},
   "source": [
    "**Question 3**: NDC codes are a common format to represent the wide variety of drugs that are prescribed for patient care in the United States. The challenge is that there are many codes that map to the same or similar drug. You are provided with the ndc drug lookup file https://github.com/udacity/nd320-c1-emr-data-starter/blob/master/project/data_schema_references/ndc_lookup_table.csv derived from the National Drug Codes List site(https://ndclist.com/). Please use this file to come up with a way to reduce the dimensionality of this field and create a new field in the dataset called \"generic_drug_name\" in the output dataframe. "
   ]
  },
  {
   "cell_type": "code",
   "execution_count": 3,
   "metadata": {},
   "outputs": [],
   "source": [
    "#NDC code lookup file\n",
    "ndc_code_path = \"./medication_lookup_tables/final_ndc_lookup_table\"\n",
    "ndc_code_df = pd.read_csv(ndc_code_path)"
   ]
  },
  {
   "cell_type": "code",
   "execution_count": 4,
   "metadata": {},
   "outputs": [],
   "source": [
    "from student_utils import reduce_dimension_ndc\n",
    "reduce_dim_df = reduce_dimension_ndc(df, ndc_code_df)"
   ]
  },
  {
   "cell_type": "code",
   "execution_count": 5,
   "metadata": {},
   "outputs": [
    {
     "name": "stdout",
     "output_type": "stream",
     "text": [
      "Tests passed!!\n"
     ]
    }
   ],
   "source": [
    "# Number of unique values should be less for the new output field\n",
    "assert df['ndc_code'].nunique() > reduce_dim_df['generic_drug_name'].nunique()\n",
    "print(\"Tests passed!!\")"
   ]
  },
  {
   "cell_type": "markdown",
   "metadata": {},
   "source": [
    "## Select First Encounter for each Patient "
   ]
  },
  {
   "cell_type": "markdown",
   "metadata": {},
   "source": [
    "**Question 4**: In order to simplify the aggregation of data for the model, we will only select the first encounter for each patient in the dataset. This is to reduce the risk of data leakage of future patient encounters and to reduce complexity of the data transformation and modeling steps. We will assume that sorting in numerical order on the encounter_id provides the time horizon for determining which encounters come before and after another."
   ]
  },
  {
   "cell_type": "code",
   "execution_count": 6,
   "metadata": {},
   "outputs": [],
   "source": [
    "from student_utils import select_first_encounter\n",
    "first_encounter_df = select_first_encounter(reduce_dim_df)"
   ]
  },
  {
   "cell_type": "code",
   "execution_count": 7,
   "metadata": {},
   "outputs": [
    {
     "name": "stdout",
     "output_type": "stream",
     "text": [
      "Number of unique patients:56133\n",
      "Number of unique encounters:56133\n",
      "Tests passed!!\n"
     ]
    }
   ],
   "source": [
    "# unique patients in transformed dataset\n",
    "unique_patients = first_encounter_df['patient_nbr'].nunique()\n",
    "print(\"Number of unique patients:{}\".format(unique_patients))\n",
    "\n",
    "# unique encounters in transformed dataset\n",
    "unique_encounters = first_encounter_df['encounter_id'].nunique()\n",
    "print(\"Number of unique encounters:{}\".format(unique_encounters))\n",
    "\n",
    "original_unique_patient_number = reduce_dim_df['patient_nbr'].nunique()\n",
    "# number of unique patients should be equal to the number of unique encounters and patients in the final dataset\n",
    "assert original_unique_patient_number == unique_patients\n",
    "assert original_unique_patient_number == unique_encounters\n",
    "print(\"Tests passed!!\")"
   ]
  },
  {
   "cell_type": "markdown",
   "metadata": {},
   "source": [
    "## Aggregate Dataset to Right Level for Modeling "
   ]
  },
  {
   "cell_type": "markdown",
   "metadata": {},
   "source": [
    "In order to provide a broad scope of the steps and to prevent students from getting stuck with data transformations, we have selected the aggregation columns and provided a function to build the dataset at the appropriate level. The 'aggregate_dataset\" function that you can find in the 'utils.py' file can take the preceding dataframe with the 'generic_drug_name' field and transform the data appropriately for the project. \n",
    "\n",
    "To make it simpler for students, we are creating dummy columns for each unique generic drug name and adding those are input features to the model. There are other options for data representation but this is out of scope for the time constraints of the course."
   ]
  },
  {
   "cell_type": "code",
   "execution_count": 8,
   "metadata": {},
   "outputs": [
    {
     "name": "stderr",
     "output_type": "stream",
     "text": [
      "/home/francois/Documents/dataMutation/udacity/nd320-c1-emr-data-starter/project/starter_code/utils.py:10: FutureWarning: Indexing with multiple keys (implicitly converted to a tuple of keys) will be deprecated, use a list instead.\n",
      "  array_field].apply(lambda x: x[array_field].values.tolist()).reset_index().rename(columns={\n"
     ]
    }
   ],
   "source": [
    "exclusion_list = ['generic_drug_name', 'ndc_code', 'NDC_Code']\n",
    "grouping_field_list = [c for c in first_encounter_df.columns if c not in exclusion_list]\n",
    "agg_drug_df, ndc_col_list = aggregate_dataset(first_encounter_df, grouping_field_list, 'generic_drug_name')"
   ]
  },
  {
   "cell_type": "code",
   "execution_count": 9,
   "metadata": {},
   "outputs": [],
   "source": [
    "assert len(agg_drug_df) == agg_drug_df['patient_nbr'].nunique() == agg_drug_df['encounter_id'].nunique()"
   ]
  },
  {
   "cell_type": "markdown",
   "metadata": {},
   "source": [
    "## Prepare Fields and Cast Dataset "
   ]
  },
  {
   "cell_type": "markdown",
   "metadata": {},
   "source": [
    "### Feature Selection"
   ]
  },
  {
   "cell_type": "markdown",
   "metadata": {},
   "source": [
    "**Question 5**: After you have aggregated the dataset to the right level, we can do feature selection (we will include the ndc_col_list, dummy column features too). In the block below, please select the categorical and numerical features that you will use for the model, so that we can create a dataset subset. \n",
    "\n",
    "For the payer_code and weight fields, please provide whether you think we should include/exclude the field in our model and give a justification/rationale for this based off of the statistics of the data. Feel free to use visualizations or summary statistics to support your choice."
   ]
  },
  {
   "cell_type": "markdown",
   "metadata": {},
   "source": [
    "Student response: \n",
    "- weight is excluded beacause there are too much missing values.\n",
    "- payer_code contains also a lot of missing values. Moreover this feature may not be related to health condition."
   ]
  },
  {
   "cell_type": "code",
   "execution_count": 15,
   "metadata": {},
   "outputs": [],
   "source": [
    "'''\n",
    "Please update the list to include the features you think are appropriate for the model \n",
    "and the field that we will be using to train the model. There are three required demographic features for the model \n",
    "and I have inserted a list with them already in the categorical list. \n",
    "These will be required for later steps when analyzing data splits and model biases.\n",
    "'''\n",
    "required_demo_col_list = ['race', 'gender', 'age']\n",
    "crossed_age_gender_feature = tf.feature_column.crossed_column(['age','gender'], hash_bucket_size=1000)\n",
    "ageXgender_feature = tf.feature_column.indicator_column(crossed_age_gender_feature)\n",
    "student_categorical_col_list = ['admission_type_id', 'discharge_disposition_id', 'admission_source_id', 'medical_specialty','primary_diagnosis_code',\n",
    "                                'other_diagnosis_codes', 'max_glu_serum', 'A1Cresult', 'change'] + required_demo_col_list + ndc_col_list\n",
    "\n",
    "\n",
    "student_numerical_col_list = ['num_procedures', 'num_medications', 'number_diagnoses']\n",
    "#student_numerical_col_list  ['time_in_hospital', 'number_outpatient','number_inpatient', 'number_emergency','num_lab_procedures', 'number_diagnoses', 'num_medications', 'num_procedures']\n",
    "PREDICTOR_FIELD = 'time_in_hospital'#readmitted'"
   ]
  },
  {
   "cell_type": "code",
   "execution_count": 16,
   "metadata": {},
   "outputs": [],
   "source": [
    "def select_model_features(df, categorical_col_list, numerical_col_list, PREDICTOR_FIELD, grouping_key='patient_nbr', ageXgender_feature):\n",
    "    selected_col_list = [grouping_key] + [PREDICTOR_FIELD] + categorical_col_list + numerical_col_list \n",
    "    return agg_drug_df[selected_col_list]\n"
   ]
  },
  {
   "cell_type": "code",
   "execution_count": 17,
   "metadata": {},
   "outputs": [],
   "source": [
    "selected_features_df = select_model_features(agg_drug_df, student_categorical_col_list, student_numerical_col_list,\n",
    "                                            PREDICTOR_FIELD)"
   ]
  },
  {
   "cell_type": "markdown",
   "metadata": {},
   "source": [
    "### Preprocess Dataset - Casting and Imputing  "
   ]
  },
  {
   "cell_type": "code",
   "execution_count": 96,
   "metadata": {},
   "outputs": [
    {
     "data": {
      "text/plain": [
       "<AxesSubplot:>"
      ]
     },
     "execution_count": 96,
     "metadata": {},
     "output_type": "execute_result"
    },
    {
     "data": {
      "image/png": "[encoded data removed]",
      "text/plain": [
       "<Figure size 432x288 with 1 Axes>"
      ]
     },
     "metadata": {
      "needs_background": "light"
     },
     "output_type": "display_data"
    }
   ],
   "source": [
    "selected_features_df[PREDICTOR_FIELD].hist()"
   ]
  },
  {
   "cell_type": "markdown",
   "metadata": {},
   "source": [
    "We will cast and impute the dataset before splitting so that we do not have to repeat these steps across the splits in the next step. For imputing, there can be deeper analysis into which features to impute and how to impute but for the sake of time, we are taking a general strategy of imputing zero for only numerical features. \n",
    "\n",
    "OPTIONAL: What are some potential issues with this approach? Can you recommend a better way and also implement it?"
   ]
  },
  {
   "cell_type": "code",
   "execution_count": 18,
   "metadata": {},
   "outputs": [
    {
     "name": "stderr",
     "output_type": "stream",
     "text": [
      "/home/francois/Documents/dataMutation/udacity/nd320-c1-emr-data-starter/project/starter_code/utils.py:29: SettingWithCopyWarning: \n",
      "A value is trying to be set on a copy of a slice from a DataFrame.\n",
      "Try using .loc[row_indexer,col_indexer] = value instead\n",
      "\n",
      "See the caveats in the documentation: https://pandas.pydata.org/pandas-docs/stable/user_guide/indexing.html#returning-a-view-versus-a-copy\n",
      "  df[predictor] = df[predictor].astype(float)\n",
      "/home/francois/Documents/dataMutation/udacity/nd320-c1-emr-data-starter/project/starter_code/utils.py:31: SettingWithCopyWarning: \n",
      "A value is trying to be set on a copy of a slice from a DataFrame.\n",
      "Try using .loc[row_indexer,col_indexer] = value instead\n",
      "\n",
      "See the caveats in the documentation: https://pandas.pydata.org/pandas-docs/stable/user_guide/indexing.html#returning-a-view-versus-a-copy\n",
      "  df[c] = cast_df(df, c, d_type=str)\n",
      "/home/francois/Documents/dataMutation/udacity/nd320-c1-emr-data-starter/project/starter_code/utils.py:33: SettingWithCopyWarning: \n",
      "A value is trying to be set on a copy of a slice from a DataFrame.\n",
      "Try using .loc[row_indexer,col_indexer] = value instead\n",
      "\n",
      "See the caveats in the documentation: https://pandas.pydata.org/pandas-docs/stable/user_guide/indexing.html#returning-a-view-versus-a-copy\n",
      "  df[numerical_column] = impute_df(df, numerical_column, numerical_impute_value)\n"
     ]
    }
   ],
   "source": [
    "#map_target = dict({'NO':0, '>30':1, '<30':2})\n",
    "#selected_features_df[PREDICTOR_FIELD] = selected_features_df[PREDICTOR_FIELD].apply(lambda x: map_target[x])\n",
    "# add ageXgender_feature here\n",
    "processed_df = preprocess_df(selected_features_df, student_categorical_col_list, \n",
    "        student_numerical_col_list, PREDICTOR_FIELD, categorical_impute_value='nan', numerical_impute_value=0)"
   ]
  },
  {
   "cell_type": "markdown",
   "metadata": {},
   "source": [
    "## Split Dataset into Train, Validation, and Test Partitions"
   ]
  },
  {
   "cell_type": "markdown",
   "metadata": {},
   "source": [
    "**Question 6**: In order to prepare the data for being trained and evaluated by a deep learning model, we will split the dataset into three partitions, with the validation partition used for optimizing the model hyperparameters during training. One of the key parts is that we need to be sure that the data does not accidently leak across partitions.\n",
    "\n",
    "Please complete the function below to split the input dataset into three partitions(train, validation, test) with the following requirements.\n",
    "- Approximately 60%/20%/20%  train/validation/test split\n",
    "- Randomly sample different patients into each data partition\n",
    "- **IMPORTANT** Make sure that a patient's data is not in more than one partition, so that we can avoid possible data leakage.\n",
    "- Make sure that the total number of unique patients across the splits is equal to the total number of unique patients in the original dataset\n",
    "- Total number of rows in original dataset = sum of rows across all three dataset partitions"
   ]
  },
  {
   "cell_type": "code",
   "execution_count": 36,
   "metadata": {},
   "outputs": [
    {
     "data": {
      "text/plain": [
       "array([1])"
      ]
     },
     "execution_count": 36,
     "metadata": {},
     "output_type": "execute_result"
    }
   ],
   "source": [
    "#Since aggregate_dataset process, there only one line per patient thus there is no leakage possible by sharing patient data across samples\n",
    "processed_df.groupby('patient_nbr')[['readmitted']].count().readmitted.unique()"
   ]
  },
  {
   "cell_type": "code",
   "execution_count": 37,
   "metadata": {},
   "outputs": [
    {
     "data": {
      "image/png": "[encoded data removed]",
      "text/plain": [
       "<Figure size 432x288 with 1 Axes>"
      ]
     },
     "metadata": {
      "needs_background": "light"
     },
     "output_type": "display_data"
    }
   ],
   "source": [
    "processed_df.readmitted.hist();\n",
    "# if we want Total number of rows in original dataset = sum of rows across all three dataset partitions. There is no room to make balanced dataset for the predictor"
   ]
  },
  {
   "cell_type": "code",
   "execution_count": 41,
   "metadata": {},
   "outputs": [
    {
     "data": {
      "image/png": "[encoded data removed]",
      "text/plain": [
       "<Figure size 432x288 with 1 Axes>"
      ]
     },
     "metadata": {
      "needs_background": "light"
     },
     "output_type": "display_data"
    }
   ],
   "source": [
    "processed_df.gender.hist();"
   ]
  },
  {
   "cell_type": "code",
   "execution_count": 43,
   "metadata": {},
   "outputs": [
    {
     "data": {
      "text/plain": [
       "array(['[80-90)', '[90-100)', '[40-50)', '[50-60)', '[60-70)', '[70-80)',\n",
       "       '[20-30)', '[10-20)', '[30-40)', '[0-10)'], dtype=object)"
      ]
     },
     "execution_count": 43,
     "metadata": {},
     "output_type": "execute_result"
    }
   ],
   "source": [
    "processed_df.age.unique()"
   ]
  },
  {
   "cell_type": "code",
   "execution_count": 60,
   "metadata": {},
   "outputs": [
    {
     "data": {
      "image/png": "[encoded data removed]",
      "text/plain": [
       "<Figure size 432x288 with 1 Axes>"
      ]
     },
     "metadata": {
      "needs_background": "light"
     },
     "output_type": "display_data"
    }
   ],
   "source": [
    "processed_df['age_num'] = [(int(j[0])+int(j[1]))/2 for j in [i[1:-1].split('-') for i in processed_df.age.values]]\n",
    "processed_df.age_num.hist();"
   ]
  },
  {
   "cell_type": "code",
   "execution_count": 19,
   "metadata": {},
   "outputs": [],
   "source": [
    "import student_utils\n",
    "from student_utils import patient_dataset_splitter\n",
    "d_train, d_val, d_test = patient_dataset_splitter(processed_df, 'patient_nbr')"
   ]
  },
  {
   "cell_type": "code",
   "execution_count": 20,
   "metadata": {},
   "outputs": [
    {
     "name": "stdout",
     "output_type": "stream",
     "text": [
      "Test passed for number of total rows equal!\n"
     ]
    }
   ],
   "source": [
    "assert len(d_train) + len(d_val) + len(d_test) == len(processed_df)\n",
    "print(\"Test passed for number of total rows equal!\")"
   ]
  },
  {
   "cell_type": "code",
   "execution_count": 21,
   "metadata": {},
   "outputs": [
    {
     "name": "stdout",
     "output_type": "stream",
     "text": [
      "Test passed for number of unique patients being equal!\n"
     ]
    }
   ],
   "source": [
    "assert (d_train['patient_nbr'].nunique() + d_val['patient_nbr'].nunique() + d_test['patient_nbr'].nunique()) == agg_drug_df['patient_nbr'].nunique()\n",
    "print(\"Test passed for number of unique patients being equal!\")"
   ]
  },
  {
   "cell_type": "markdown",
   "metadata": {},
   "source": [
    "## Demographic Representation Analysis of Split"
   ]
  },
  {
   "cell_type": "markdown",
   "metadata": {},
   "source": [
    "After the split, we should check to see the distribution of key features/groups and make sure that there is representative samples across the partitions. The show_group_stats_viz function in the utils.py file can be used to group and visualize different groups and dataframe partitions."
   ]
  },
  {
   "cell_type": "markdown",
   "metadata": {},
   "source": [
    "### Label Distribution Across Partitions"
   ]
  },
  {
   "cell_type": "markdown",
   "metadata": {},
   "source": [
    "Below you can see the distributution of the label across your splits. Are the histogram distribution shapes similar across partitions?"
   ]
  },
  {
   "cell_type": "code",
   "execution_count": 31,
   "metadata": {},
   "outputs": [
    {
     "name": "stdout",
     "output_type": "stream",
     "text": [
      "readmitted\n",
      "0.0    32525\n",
      "1.0    18328\n",
      "2.0     5280\n",
      "dtype: int64\n",
      "AxesSubplot(0.125,0.125;0.775x0.755)\n"
     ]
    },
    {
     "data": {
      "image/png": "[encoded data removed]",
      "text/plain": [
       "<Figure size 432x288 with 1 Axes>"
      ]
     },
     "metadata": {
      "needs_background": "light"
     },
     "output_type": "display_data"
    }
   ],
   "source": [
    "show_group_stats_viz(processed_df, PREDICTOR_FIELD)"
   ]
  },
  {
   "cell_type": "code",
   "execution_count": 32,
   "metadata": {},
   "outputs": [
    {
     "name": "stdout",
     "output_type": "stream",
     "text": [
      "readmitted\n",
      "0.0    14638\n",
      "1.0     8238\n",
      "2.0     2417\n",
      "dtype: int64\n",
      "AxesSubplot(0.125,0.125;0.775x0.755)\n"
     ]
    },
    {
     "data": {
      "image/png": "[encoded data removed]",
      "text/plain": [
       "<Figure size 432x288 with 1 Axes>"
      ]
     },
     "metadata": {
      "needs_background": "light"
     },
     "output_type": "display_data"
    }
   ],
   "source": [
    "show_group_stats_viz(d_train, PREDICTOR_FIELD)"
   ]
  },
  {
   "cell_type": "code",
   "execution_count": 33,
   "metadata": {},
   "outputs": [
    {
     "name": "stdout",
     "output_type": "stream",
     "text": [
      "readmitted\n",
      "0.0    7114\n",
      "1.0    4042\n",
      "2.0    1180\n",
      "dtype: int64\n",
      "AxesSubplot(0.125,0.125;0.775x0.755)\n"
     ]
    },
    {
     "data": {
      "image/png": "[encoded data removed]",
      "text/plain": [
       "<Figure size 432x288 with 1 Axes>"
      ]
     },
     "metadata": {
      "needs_background": "light"
     },
     "output_type": "display_data"
    }
   ],
   "source": [
    "show_group_stats_viz(d_test, PREDICTOR_FIELD)"
   ]
  },
  {
   "cell_type": "markdown",
   "metadata": {},
   "source": [
    "## Demographic Group Analysis"
   ]
  },
  {
   "cell_type": "markdown",
   "metadata": {},
   "source": [
    "We should check that our partitions/splits of the dataset are similar in terms of their demographic profiles. Below you can see how we might visualize and analyze the full dataset vs. the partitions."
   ]
  },
  {
   "cell_type": "code",
   "execution_count": 34,
   "metadata": {},
   "outputs": [
    {
     "name": "stdout",
     "output_type": "stream",
     "text": [
      "gender\n",
      "Female             29583\n",
      "Male               26548\n",
      "Unknown/Invalid        2\n",
      "dtype: int64\n",
      "AxesSubplot(0.125,0.125;0.775x0.755)\n"
     ]
    },
    {
     "data": {
      "image/png": "[encoded data removed]",
      "text/plain": [
       "<Figure size 432x288 with 1 Axes>"
      ]
     },
     "metadata": {
      "needs_background": "light"
     },
     "output_type": "display_data"
    }
   ],
   "source": [
    "# Full dataset before splitting\n",
    "patient_demo_features = ['race', 'gender', 'age', 'patient_nbr']\n",
    "patient_group_analysis_df = processed_df[patient_demo_features].groupby('patient_nbr').head(1).reset_index(drop=True)\n",
    "show_group_stats_viz(patient_group_analysis_df, 'gender')"
   ]
  },
  {
   "cell_type": "code",
   "execution_count": 35,
   "metadata": {},
   "outputs": [
    {
     "name": "stdout",
     "output_type": "stream",
     "text": [
      "gender\n",
      "Female             13305\n",
      "Male               11987\n",
      "Unknown/Invalid        1\n",
      "dtype: int64\n",
      "AxesSubplot(0.125,0.125;0.775x0.755)\n"
     ]
    },
    {
     "data": {
      "image/png": "[encoded data removed]",
      "text/plain": [
       "<Figure size 432x288 with 1 Axes>"
      ]
     },
     "metadata": {
      "needs_background": "light"
     },
     "output_type": "display_data"
    }
   ],
   "source": [
    "# Training partition\n",
    "show_group_stats_viz(d_train, 'gender')"
   ]
  },
  {
   "cell_type": "code",
   "execution_count": 36,
   "metadata": {},
   "outputs": [
    {
     "name": "stdout",
     "output_type": "stream",
     "text": [
      "gender\n",
      "Female    6452\n",
      "Male      5884\n",
      "dtype: int64\n",
      "AxesSubplot(0.125,0.125;0.775x0.755)\n"
     ]
    },
    {
     "data": {
      "image/png": "[encoded data removed]",
      "text/plain": [
       "<Figure size 432x288 with 1 Axes>"
      ]
     },
     "metadata": {
      "needs_background": "light"
     },
     "output_type": "display_data"
    }
   ],
   "source": [
    "# Test partition\n",
    "show_group_stats_viz(d_test, 'gender')"
   ]
  },
  {
   "cell_type": "markdown",
   "metadata": {},
   "source": [
    "## Convert Dataset Splits to TF Dataset"
   ]
  },
  {
   "cell_type": "markdown",
   "metadata": {},
   "source": [
    "We have provided you the function to convert the Pandas dataframe to TF tensors using the TF Dataset API. \n",
    "Please note that this is not a scalable method and for larger datasets, the 'make_csv_dataset' method is recommended -https://www.tensorflow.org/api_docs/python/tf/data/experimental/make_csv_dataset."
   ]
  },
  {
   "cell_type": "code",
   "execution_count": 22,
   "metadata": {},
   "outputs": [],
   "source": [
    "# Convert dataset from Pandas dataframes to TF dataset \n",
    "batch_size = 128\n",
    "diabetes_train_ds = df_to_dataset(d_train, PREDICTOR_FIELD, batch_size=batch_size)\n",
    "diabetes_val_ds = df_to_dataset(d_val, PREDICTOR_FIELD, batch_size=batch_size)\n",
    "diabetes_test_ds = df_to_dataset(d_test, PREDICTOR_FIELD, batch_size=batch_size)"
   ]
  },
  {
   "cell_type": "code",
   "execution_count": 23,
   "metadata": {},
   "outputs": [],
   "source": [
    "# We use this sample of the dataset to show transformations later\n",
    "diabetes_batch = next(iter(diabetes_train_ds))[0]\n",
    "def demo(feature_column, example_batch):\n",
    "    feature_layer = layers.DenseFeatures(feature_column)\n",
    "    print(feature_layer(example_batch))"
   ]
  },
  {
   "cell_type": "markdown",
   "metadata": {},
   "source": [
    "# 4. Create Categorical Features with TF Feature Columns"
   ]
  },
  {
   "cell_type": "markdown",
   "metadata": {},
   "source": [
    "## Build Vocabulary for Categorical Features"
   ]
  },
  {
   "cell_type": "markdown",
   "metadata": {},
   "source": [
    "Before we can create the TF categorical features, we must first create the vocab files with the unique values for a given field that are from the **training** dataset. Below we have provided a function that you can use that only requires providing the pandas train dataset partition and the list of the categorical columns in a list format. The output variable 'vocab_file_list' will be a list of the file paths that can be used in the next step for creating the categorical features."
   ]
  },
  {
   "cell_type": "code",
   "execution_count": 24,
   "metadata": {},
   "outputs": [],
   "source": [
    "vocab_file_list = build_vocab_files(d_train, student_categorical_col_list)"
   ]
  },
  {
   "cell_type": "markdown",
   "metadata": {},
   "source": [
    "## Create Categorical Features with Tensorflow Feature Column API"
   ]
  },
  {
   "cell_type": "markdown",
   "metadata": {},
   "source": [
    "**Question 7**: Using the vocab file list from above that was derived fromt the features you selected earlier, please create categorical features with the Tensorflow Feature Column API, https://www.tensorflow.org/api_docs/python/tf/feature_column. Below is a function to help guide you."
   ]
  },
  {
   "cell_type": "code",
   "execution_count": 25,
   "metadata": {},
   "outputs": [],
   "source": [
    "from student_utils import create_tf_categorical_feature_cols\n",
    "tf_cat_col_list = create_tf_categorical_feature_cols(student_categorical_col_list)"
   ]
  },
  {
   "cell_type": "code",
   "execution_count": 26,
   "metadata": {},
   "outputs": [
    {
     "name": "stdout",
     "output_type": "stream",
     "text": [
      "Example categorical field:\n",
      "EmbeddingColumn(categorical_column=VocabularyFileCategoricalColumn(key='admission_type_id', vocabulary_file='./diabetes_vocab/admission_type_id_vocab.txt', vocabulary_size=9, num_oov_buckets=0, dtype=tf.string, default_value=-1), dimension=8, combiner='mean', initializer=<tensorflow.python.ops.init_ops.TruncatedNormal object at 0x7f2636770550>, ckpt_to_load_from=None, tensor_name_in_ckpt=None, max_norm=None, trainable=True, use_safe_embedding_lookup=True)\n",
      "tf.Tensor(\n",
      "[[-0.21232751  0.17001544  0.25281566 ...  0.25964373 -0.05514732\n",
      "   0.518121  ]\n",
      " [-0.21232751  0.17001544  0.25281566 ...  0.25964373 -0.05514732\n",
      "   0.518121  ]\n",
      " [ 0.31094182  0.2082002  -0.32119513 ...  0.22439517  0.3729011\n",
      "  -0.00137923]\n",
      " ...\n",
      " [ 0.05983278 -0.2779688  -0.2781204  ... -0.27015465  0.19019501\n",
      "  -0.14754133]\n",
      " [ 0.31094182  0.2082002  -0.32119513 ...  0.22439517  0.3729011\n",
      "  -0.00137923]\n",
      " [-0.21232751  0.17001544  0.25281566 ...  0.25964373 -0.05514732\n",
      "   0.518121  ]], shape=(128, 8), dtype=float32)\n"
     ]
    }
   ],
   "source": [
    "test_cat_var1 = tf_cat_col_list[0]\n",
    "print(\"Example categorical field:\\n{}\".format(test_cat_var1))\n",
    "demo(test_cat_var1, diabetes_batch)"
   ]
  },
  {
   "cell_type": "markdown",
   "metadata": {},
   "source": [
    "# 5. Create Numerical Features with TF Feature Columns"
   ]
  },
  {
   "cell_type": "markdown",
   "metadata": {},
   "source": [
    "**Question 8**: Using the TF Feature Column API(https://www.tensorflow.org/api_docs/python/tf/feature_column/), please create normalized Tensorflow numeric features for the model. Try to use the z-score normalizer function below to help as well as the 'calculate_stats_from_train_data' function."
   ]
  },
  {
   "cell_type": "code",
   "execution_count": 27,
   "metadata": {},
   "outputs": [],
   "source": [
    "from student_utils import create_tf_numeric_feature"
   ]
  },
  {
   "cell_type": "markdown",
   "metadata": {},
   "source": [
    "For simplicity the create_tf_numerical_feature_cols function below uses the same normalizer function across all features(z-score normalization) but if you have time feel free to analyze and adapt the normalizer based off the statistical distributions. You may find this as a good resource in determining which transformation fits best for the data https://developers.google.com/machine-learning/data-prep/transform/normalization.\n"
   ]
  },
  {
   "cell_type": "code",
   "execution_count": 28,
   "metadata": {},
   "outputs": [],
   "source": [
    "def calculate_stats_from_train_data(df, col):\n",
    "    mean = df[col].describe()['mean']\n",
    "    std = df[col].describe()['std']\n",
    "    return mean, std\n",
    "\n",
    "def create_tf_numerical_feature_cols(numerical_col_list, train_df):\n",
    "    tf_numeric_col_list = []\n",
    "    for c in numerical_col_list:\n",
    "        mean, std = calculate_stats_from_train_data(train_df, c)\n",
    "        tf_numeric_feature = create_tf_numeric_feature(c, mean, std)\n",
    "        tf_numeric_col_list.append(tf_numeric_feature)\n",
    "    return tf_numeric_col_list"
   ]
  },
  {
   "cell_type": "code",
   "execution_count": 29,
   "metadata": {},
   "outputs": [],
   "source": [
    "tf_cont_col_list = create_tf_numerical_feature_cols(student_numerical_col_list, d_train)"
   ]
  },
  {
   "cell_type": "code",
   "execution_count": 30,
   "metadata": {},
   "outputs": [
    {
     "name": "stdout",
     "output_type": "stream",
     "text": [
      "Example continuous field:\n",
      "NumericColumn(key='num_procedures', shape=(1,), default_value=(0,), dtype=tf.float32, normalizer_fn=<function create_tf_numeric_feature.<locals>.<lambda> at 0x7f26366c1ef0>)\n",
      "\n",
      "tf.Tensor(\n",
      "[[-1.]\n",
      " [ 0.]\n",
      " [-1.]\n",
      " [-1.]\n",
      " [ 0.]\n",
      " [-1.]\n",
      " [ 3.]\n",
      " [ 0.]\n",
      " [-1.]\n",
      " [ 0.]\n",
      " [-1.]\n",
      " [ 0.]\n",
      " [ 4.]\n",
      " [ 1.]\n",
      " [ 0.]\n",
      " [-1.]\n",
      " [ 0.]\n",
      " [-1.]\n",
      " [-1.]\n",
      " [ 0.]\n",
      " [ 4.]\n",
      " [ 5.]\n",
      " [ 1.]\n",
      " [-1.]\n",
      " [ 5.]\n",
      " [ 1.]\n",
      " [-1.]\n",
      " [ 4.]\n",
      " [-1.]\n",
      " [ 4.]\n",
      " [ 2.]\n",
      " [ 0.]\n",
      " [ 5.]\n",
      " [-1.]\n",
      " [-1.]\n",
      " [ 1.]\n",
      " [-1.]\n",
      " [ 4.]\n",
      " [ 2.]\n",
      " [-1.]\n",
      " [-1.]\n",
      " [ 5.]\n",
      " [ 2.]\n",
      " [ 1.]\n",
      " [-1.]\n",
      " [-1.]\n",
      " [ 5.]\n",
      " [-1.]\n",
      " [ 1.]\n",
      " [-1.]\n",
      " [-1.]\n",
      " [ 3.]\n",
      " [ 0.]\n",
      " [-1.]\n",
      " [ 1.]\n",
      " [ 1.]\n",
      " [ 1.]\n",
      " [-1.]\n",
      " [-1.]\n",
      " [-1.]\n",
      " [ 2.]\n",
      " [-1.]\n",
      " [ 0.]\n",
      " [ 1.]\n",
      " [ 0.]\n",
      " [ 5.]\n",
      " [-1.]\n",
      " [ 1.]\n",
      " [ 3.]\n",
      " [ 0.]\n",
      " [ 0.]\n",
      " [-1.]\n",
      " [ 5.]\n",
      " [ 2.]\n",
      " [ 0.]\n",
      " [ 0.]\n",
      " [ 5.]\n",
      " [ 0.]\n",
      " [-1.]\n",
      " [ 2.]\n",
      " [-1.]\n",
      " [ 2.]\n",
      " [ 0.]\n",
      " [-1.]\n",
      " [ 3.]\n",
      " [-1.]\n",
      " [ 5.]\n",
      " [ 0.]\n",
      " [ 3.]\n",
      " [-1.]\n",
      " [-1.]\n",
      " [ 4.]\n",
      " [-1.]\n",
      " [ 2.]\n",
      " [ 0.]\n",
      " [ 0.]\n",
      " [-1.]\n",
      " [ 0.]\n",
      " [-1.]\n",
      " [ 1.]\n",
      " [ 1.]\n",
      " [ 1.]\n",
      " [-1.]\n",
      " [-1.]\n",
      " [ 5.]\n",
      " [-1.]\n",
      " [-1.]\n",
      " [ 2.]\n",
      " [ 2.]\n",
      " [-1.]\n",
      " [-1.]\n",
      " [ 4.]\n",
      " [-1.]\n",
      " [ 2.]\n",
      " [-1.]\n",
      " [-1.]\n",
      " [ 2.]\n",
      " [ 0.]\n",
      " [-1.]\n",
      " [ 0.]\n",
      " [ 5.]\n",
      " [-1.]\n",
      " [-1.]\n",
      " [-1.]\n",
      " [-1.]\n",
      " [ 0.]\n",
      " [ 5.]\n",
      " [-1.]], shape=(128, 1), dtype=float32)\n"
     ]
    }
   ],
   "source": [
    "test_cont_var1 = tf_cont_col_list[0]\n",
    "print(\"Example continuous field:\\n{}\\n\".format(test_cont_var1))\n",
    "demo(test_cont_var1, diabetes_batch)"
   ]
  },
  {
   "cell_type": "markdown",
   "metadata": {},
   "source": [
    "# 6. Build Deep Learning Regression Model with Sequential API and TF Probability Layers"
   ]
  },
  {
   "cell_type": "markdown",
   "metadata": {},
   "source": [
    "## Use DenseFeatures to combine features for model"
   ]
  },
  {
   "cell_type": "markdown",
   "metadata": {},
   "source": [
    "Now that we have prepared categorical and numerical features using Tensorflow's Feature Column API, we can combine them into a dense vector representation for the model. Below we will create this new input layer, which we will call 'claim_feature_layer'."
   ]
  },
  {
   "cell_type": "code",
   "execution_count": 31,
   "metadata": {},
   "outputs": [],
   "source": [
    "claim_feature_columns = tf_cat_col_list + tf_cont_col_list\n",
    "claim_feature_layer = tf.keras.layers.DenseFeatures(claim_feature_columns)"
   ]
  },
  {
   "cell_type": "markdown",
   "metadata": {},
   "source": [
    "## Build Sequential API Model from DenseFeatures and TF Probability Layers"
   ]
  },
  {
   "cell_type": "markdown",
   "metadata": {},
   "source": [
    "Below we have provided some boilerplate code for building a model that connects the Sequential API, DenseFeatures, and Tensorflow Probability layers into a deep learning model. There are many opportunities to further optimize and explore different architectures through benchmarking and testing approaches in various research papers, loss and evaluation metrics, learning curves, hyperparameter tuning, TF probability layers, etc. Feel free to modify and explore as you wish."
   ]
  },
  {
   "cell_type": "markdown",
   "metadata": {},
   "source": [
    "**OPTIONAL**: Come up with a more optimal neural network architecture and hyperparameters. Share the process in discovering the architecture and hyperparameters."
   ]
  },
  {
   "cell_type": "code",
   "execution_count": 32,
   "metadata": {},
   "outputs": [],
   "source": [
    "def build_sequential_model(feature_layer):\n",
    "    model = tf.keras.Sequential([\n",
    "        feature_layer,\n",
    "        tf.keras.layers.Dense(150, activation='relu'),\n",
    "        tf.keras.layers.Dense(75, activation='relu'),\n",
    "        tfp.layers.DenseVariational(1+1, posterior_mean_field, prior_trainable),\n",
    "        tfp.layers.DistributionLambda(\n",
    "            lambda t:tfp.distributions.Normal(loc=t[..., :1],\n",
    "                                             scale=1e-3 + tf.math.softplus(0.01 * t[...,1:])\n",
    "                                             )\n",
    "        ),\n",
    "    ])\n",
    "    return model\n",
    "\n",
    "def build_diabetes_model(train_ds, val_ds,  feature_layer,  epochs=5, loss_metric='mse'):\n",
    "    model = build_sequential_model(feature_layer)\n",
    "    model.compile(optimizer='rmsprop', loss=loss_metric, metrics=[loss_metric])#'adam'\n",
    "    early_stop = tf.keras.callbacks.EarlyStopping(monitor=loss_metric, patience=3)     \n",
    "    history = model.fit(train_ds, validation_data=val_ds,\n",
    "                        callbacks=[early_stop],\n",
    "                        epochs=epochs)\n",
    "    return model, history "
   ]
  },
  {
   "cell_type": "code",
   "execution_count": 58,
   "metadata": {},
   "outputs": [
    {
     "name": "stdout",
     "output_type": "stream",
     "text": [
      "Epoch 1/20\n",
      "WARNING:tensorflow:Layers in a Sequential model should only have a single input tensor, but we receive a <class 'dict'> input: {'patient_nbr': <tf.Tensor 'ExpandDims_34:0' shape=(None, 1) dtype=int64>, 'admission_type_id': <tf.Tensor 'ExpandDims_23:0' shape=(None, 1) dtype=string>, 'discharge_disposition_id': <tf.Tensor 'ExpandDims_26:0' shape=(None, 1) dtype=string>, 'admission_source_id': <tf.Tensor 'ExpandDims_22:0' shape=(None, 1) dtype=string>, 'medical_specialty': <tf.Tensor 'ExpandDims_29:0' shape=(None, 1) dtype=string>, 'primary_diagnosis_code': <tf.Tensor 'ExpandDims_35:0' shape=(None, 1) dtype=string>, 'other_diagnosis_codes': <tf.Tensor 'ExpandDims_33:0' shape=(None, 1) dtype=string>, 'max_glu_serum': <tf.Tensor 'ExpandDims_28:0' shape=(None, 1) dtype=string>, 'A1Cresult': <tf.Tensor 'ExpandDims:0' shape=(None, 1) dtype=string>, 'change': <tf.Tensor 'ExpandDims_25:0' shape=(None, 1) dtype=string>, 'race': <tf.Tensor 'ExpandDims_36:0' shape=(None, 1) dtype=string>, 'gender': <tf.Tensor 'ExpandDims_27:0' shape=(None, 1) dtype=string>, 'age': <tf.Tensor 'ExpandDims_24:0' shape=(None, 1) dtype=string>, 'Acarbose': <tf.Tensor 'ExpandDims_1:0' shape=(None, 1) dtype=string>, 'Glimepiride': <tf.Tensor 'ExpandDims_2:0' shape=(None, 1) dtype=string>, 'Glipizide': <tf.Tensor 'ExpandDims_3:0' shape=(None, 1) dtype=string>, 'Glipizide_And_Metformin_Hcl': <tf.Tensor 'ExpandDims_4:0' shape=(None, 1) dtype=string>, 'Glipizide_And_Metformin_Hydrochloride': <tf.Tensor 'ExpandDims_5:0' shape=(None, 1) dtype=string>, 'Glyburide': <tf.Tensor 'ExpandDims_6:0' shape=(None, 1) dtype=string>, 'Glyburide_And_Metformin_Hydrochloride': <tf.Tensor 'ExpandDims_8:0' shape=(None, 1) dtype=string>, 'Glyburide-metformin_Hydrochloride': <tf.Tensor 'ExpandDims_7:0' shape=(None, 1) dtype=string>, 'Human_Insulin': <tf.Tensor 'ExpandDims_9:0' shape=(None, 1) dtype=string>, 'Insulin_Human': <tf.Tensor 'ExpandDims_10:0' shape=(None, 1) dtype=string>, 'Metformin_Hcl': <tf.Tensor 'ExpandDims_11:0' shape=(None, 1) dtype=string>, 'Metformin_Hydrochloride': <tf.Tensor 'ExpandDims_12:0' shape=(None, 1) dtype=string>, 'Miglitol': <tf.Tensor 'ExpandDims_13:0' shape=(None, 1) dtype=string>, 'Nateglinide': <tf.Tensor 'ExpandDims_14:0' shape=(None, 1) dtype=string>, 'Pioglitazole_And_Metformin_Hydrochloride': <tf.Tensor 'ExpandDims_15:0' shape=(None, 1) dtype=string>, 'Pioglitazone': <tf.Tensor 'ExpandDims_16:0' shape=(None, 1) dtype=string>, 'Pioglitazone_Hydrochloride_And_Glimepiride': <tf.Tensor 'ExpandDims_17:0' shape=(None, 1) dtype=string>, 'Repaglinide': <tf.Tensor 'ExpandDims_18:0' shape=(None, 1) dtype=string>, 'Rosiglitazone_Maleate': <tf.Tensor 'ExpandDims_19:0' shape=(None, 1) dtype=string>, 'Tolazamide': <tf.Tensor 'ExpandDims_20:0' shape=(None, 1) dtype=string>, 'Tolbutamide': <tf.Tensor 'ExpandDims_21:0' shape=(None, 1) dtype=string>, 'num_procedures': <tf.Tensor 'ExpandDims_31:0' shape=(None, 1) dtype=int64>, 'num_medications': <tf.Tensor 'ExpandDims_30:0' shape=(None, 1) dtype=int64>, 'number_diagnoses': <tf.Tensor 'ExpandDims_32:0' shape=(None, 1) dtype=int64>}\n",
      "Consider rewriting this model with the Functional API.\n"
     ]
    },
    {
     "name": "stderr",
     "output_type": "stream",
     "text": [
      "WARNING:tensorflow:Layers in a Sequential model should only have a single input tensor, but we receive a <class 'dict'> input: {'patient_nbr': <tf.Tensor 'ExpandDims_34:0' shape=(None, 1) dtype=int64>, 'admission_type_id': <tf.Tensor 'ExpandDims_23:0' shape=(None, 1) dtype=string>, 'discharge_disposition_id': <tf.Tensor 'ExpandDims_26:0' shape=(None, 1) dtype=string>, 'admission_source_id': <tf.Tensor 'ExpandDims_22:0' shape=(None, 1) dtype=string>, 'medical_specialty': <tf.Tensor 'ExpandDims_29:0' shape=(None, 1) dtype=string>, 'primary_diagnosis_code': <tf.Tensor 'ExpandDims_35:0' shape=(None, 1) dtype=string>, 'other_diagnosis_codes': <tf.Tensor 'ExpandDims_33:0' shape=(None, 1) dtype=string>, 'max_glu_serum': <tf.Tensor 'ExpandDims_28:0' shape=(None, 1) dtype=string>, 'A1Cresult': <tf.Tensor 'ExpandDims:0' shape=(None, 1) dtype=string>, 'change': <tf.Tensor 'ExpandDims_25:0' shape=(None, 1) dtype=string>, 'race': <tf.Tensor 'ExpandDims_36:0' shape=(None, 1) dtype=string>, 'gender': <tf.Tensor 'ExpandDims_27:0' shape=(None, 1) dtype=string>, 'age': <tf.Tensor 'ExpandDims_24:0' shape=(None, 1) dtype=string>, 'Acarbose': <tf.Tensor 'ExpandDims_1:0' shape=(None, 1) dtype=string>, 'Glimepiride': <tf.Tensor 'ExpandDims_2:0' shape=(None, 1) dtype=string>, 'Glipizide': <tf.Tensor 'ExpandDims_3:0' shape=(None, 1) dtype=string>, 'Glipizide_And_Metformin_Hcl': <tf.Tensor 'ExpandDims_4:0' shape=(None, 1) dtype=string>, 'Glipizide_And_Metformin_Hydrochloride': <tf.Tensor 'ExpandDims_5:0' shape=(None, 1) dtype=string>, 'Glyburide': <tf.Tensor 'ExpandDims_6:0' shape=(None, 1) dtype=string>, 'Glyburide_And_Metformin_Hydrochloride': <tf.Tensor 'ExpandDims_8:0' shape=(None, 1) dtype=string>, 'Glyburide-metformin_Hydrochloride': <tf.Tensor 'ExpandDims_7:0' shape=(None, 1) dtype=string>, 'Human_Insulin': <tf.Tensor 'ExpandDims_9:0' shape=(None, 1) dtype=string>, 'Insulin_Human': <tf.Tensor 'ExpandDims_10:0' shape=(None, 1) dtype=string>, 'Metformin_Hcl': <tf.Tensor 'ExpandDims_11:0' shape=(None, 1) dtype=string>, 'Metformin_Hydrochloride': <tf.Tensor 'ExpandDims_12:0' shape=(None, 1) dtype=string>, 'Miglitol': <tf.Tensor 'ExpandDims_13:0' shape=(None, 1) dtype=string>, 'Nateglinide': <tf.Tensor 'ExpandDims_14:0' shape=(None, 1) dtype=string>, 'Pioglitazole_And_Metformin_Hydrochloride': <tf.Tensor 'ExpandDims_15:0' shape=(None, 1) dtype=string>, 'Pioglitazone': <tf.Tensor 'ExpandDims_16:0' shape=(None, 1) dtype=string>, 'Pioglitazone_Hydrochloride_And_Glimepiride': <tf.Tensor 'ExpandDims_17:0' shape=(None, 1) dtype=string>, 'Repaglinide': <tf.Tensor 'ExpandDims_18:0' shape=(None, 1) dtype=string>, 'Rosiglitazone_Maleate': <tf.Tensor 'ExpandDims_19:0' shape=(None, 1) dtype=string>, 'Tolazamide': <tf.Tensor 'ExpandDims_20:0' shape=(None, 1) dtype=string>, 'Tolbutamide': <tf.Tensor 'ExpandDims_21:0' shape=(None, 1) dtype=string>, 'num_procedures': <tf.Tensor 'ExpandDims_31:0' shape=(None, 1) dtype=int64>, 'num_medications': <tf.Tensor 'ExpandDims_30:0' shape=(None, 1) dtype=int64>, 'number_diagnoses': <tf.Tensor 'ExpandDims_32:0' shape=(None, 1) dtype=int64>}\n",
      "Consider rewriting this model with the Functional API.\n"
     ]
    },
    {
     "name": "stdout",
     "output_type": "stream",
     "text": [
      "WARNING:tensorflow:Layers in a Sequential model should only have a single input tensor, but we receive a <class 'dict'> input: {'patient_nbr': <tf.Tensor 'ExpandDims_34:0' shape=(None, 1) dtype=int64>, 'admission_type_id': <tf.Tensor 'ExpandDims_23:0' shape=(None, 1) dtype=string>, 'discharge_disposition_id': <tf.Tensor 'ExpandDims_26:0' shape=(None, 1) dtype=string>, 'admission_source_id': <tf.Tensor 'ExpandDims_22:0' shape=(None, 1) dtype=string>, 'medical_specialty': <tf.Tensor 'ExpandDims_29:0' shape=(None, 1) dtype=string>, 'primary_diagnosis_code': <tf.Tensor 'ExpandDims_35:0' shape=(None, 1) dtype=string>, 'other_diagnosis_codes': <tf.Tensor 'ExpandDims_33:0' shape=(None, 1) dtype=string>, 'max_glu_serum': <tf.Tensor 'ExpandDims_28:0' shape=(None, 1) dtype=string>, 'A1Cresult': <tf.Tensor 'ExpandDims:0' shape=(None, 1) dtype=string>, 'change': <tf.Tensor 'ExpandDims_25:0' shape=(None, 1) dtype=string>, 'race': <tf.Tensor 'ExpandDims_36:0' shape=(None, 1) dtype=string>, 'gender': <tf.Tensor 'ExpandDims_27:0' shape=(None, 1) dtype=string>, 'age': <tf.Tensor 'ExpandDims_24:0' shape=(None, 1) dtype=string>, 'Acarbose': <tf.Tensor 'ExpandDims_1:0' shape=(None, 1) dtype=string>, 'Glimepiride': <tf.Tensor 'ExpandDims_2:0' shape=(None, 1) dtype=string>, 'Glipizide': <tf.Tensor 'ExpandDims_3:0' shape=(None, 1) dtype=string>, 'Glipizide_And_Metformin_Hcl': <tf.Tensor 'ExpandDims_4:0' shape=(None, 1) dtype=string>, 'Glipizide_And_Metformin_Hydrochloride': <tf.Tensor 'ExpandDims_5:0' shape=(None, 1) dtype=string>, 'Glyburide': <tf.Tensor 'ExpandDims_6:0' shape=(None, 1) dtype=string>, 'Glyburide_And_Metformin_Hydrochloride': <tf.Tensor 'ExpandDims_8:0' shape=(None, 1) dtype=string>, 'Glyburide-metformin_Hydrochloride': <tf.Tensor 'ExpandDims_7:0' shape=(None, 1) dtype=string>, 'Human_Insulin': <tf.Tensor 'ExpandDims_9:0' shape=(None, 1) dtype=string>, 'Insulin_Human': <tf.Tensor 'ExpandDims_10:0' shape=(None, 1) dtype=string>, 'Metformin_Hcl': <tf.Tensor 'ExpandDims_11:0' shape=(None, 1) dtype=string>, 'Metformin_Hydrochloride': <tf.Tensor 'ExpandDims_12:0' shape=(None, 1) dtype=string>, 'Miglitol': <tf.Tensor 'ExpandDims_13:0' shape=(None, 1) dtype=string>, 'Nateglinide': <tf.Tensor 'ExpandDims_14:0' shape=(None, 1) dtype=string>, 'Pioglitazole_And_Metformin_Hydrochloride': <tf.Tensor 'ExpandDims_15:0' shape=(None, 1) dtype=string>, 'Pioglitazone': <tf.Tensor 'ExpandDims_16:0' shape=(None, 1) dtype=string>, 'Pioglitazone_Hydrochloride_And_Glimepiride': <tf.Tensor 'ExpandDims_17:0' shape=(None, 1) dtype=string>, 'Repaglinide': <tf.Tensor 'ExpandDims_18:0' shape=(None, 1) dtype=string>, 'Rosiglitazone_Maleate': <tf.Tensor 'ExpandDims_19:0' shape=(None, 1) dtype=string>, 'Tolazamide': <tf.Tensor 'ExpandDims_20:0' shape=(None, 1) dtype=string>, 'Tolbutamide': <tf.Tensor 'ExpandDims_21:0' shape=(None, 1) dtype=string>, 'num_procedures': <tf.Tensor 'ExpandDims_31:0' shape=(None, 1) dtype=int64>, 'num_medications': <tf.Tensor 'ExpandDims_30:0' shape=(None, 1) dtype=int64>, 'number_diagnoses': <tf.Tensor 'ExpandDims_32:0' shape=(None, 1) dtype=int64>}\n",
      "Consider rewriting this model with the Functional API.\n"
     ]
    },
    {
     "name": "stderr",
     "output_type": "stream",
     "text": [
      "WARNING:tensorflow:Layers in a Sequential model should only have a single input tensor, but we receive a <class 'dict'> input: {'patient_nbr': <tf.Tensor 'ExpandDims_34:0' shape=(None, 1) dtype=int64>, 'admission_type_id': <tf.Tensor 'ExpandDims_23:0' shape=(None, 1) dtype=string>, 'discharge_disposition_id': <tf.Tensor 'ExpandDims_26:0' shape=(None, 1) dtype=string>, 'admission_source_id': <tf.Tensor 'ExpandDims_22:0' shape=(None, 1) dtype=string>, 'medical_specialty': <tf.Tensor 'ExpandDims_29:0' shape=(None, 1) dtype=string>, 'primary_diagnosis_code': <tf.Tensor 'ExpandDims_35:0' shape=(None, 1) dtype=string>, 'other_diagnosis_codes': <tf.Tensor 'ExpandDims_33:0' shape=(None, 1) dtype=string>, 'max_glu_serum': <tf.Tensor 'ExpandDims_28:0' shape=(None, 1) dtype=string>, 'A1Cresult': <tf.Tensor 'ExpandDims:0' shape=(None, 1) dtype=string>, 'change': <tf.Tensor 'ExpandDims_25:0' shape=(None, 1) dtype=string>, 'race': <tf.Tensor 'ExpandDims_36:0' shape=(None, 1) dtype=string>, 'gender': <tf.Tensor 'ExpandDims_27:0' shape=(None, 1) dtype=string>, 'age': <tf.Tensor 'ExpandDims_24:0' shape=(None, 1) dtype=string>, 'Acarbose': <tf.Tensor 'ExpandDims_1:0' shape=(None, 1) dtype=string>, 'Glimepiride': <tf.Tensor 'ExpandDims_2:0' shape=(None, 1) dtype=string>, 'Glipizide': <tf.Tensor 'ExpandDims_3:0' shape=(None, 1) dtype=string>, 'Glipizide_And_Metformin_Hcl': <tf.Tensor 'ExpandDims_4:0' shape=(None, 1) dtype=string>, 'Glipizide_And_Metformin_Hydrochloride': <tf.Tensor 'ExpandDims_5:0' shape=(None, 1) dtype=string>, 'Glyburide': <tf.Tensor 'ExpandDims_6:0' shape=(None, 1) dtype=string>, 'Glyburide_And_Metformin_Hydrochloride': <tf.Tensor 'ExpandDims_8:0' shape=(None, 1) dtype=string>, 'Glyburide-metformin_Hydrochloride': <tf.Tensor 'ExpandDims_7:0' shape=(None, 1) dtype=string>, 'Human_Insulin': <tf.Tensor 'ExpandDims_9:0' shape=(None, 1) dtype=string>, 'Insulin_Human': <tf.Tensor 'ExpandDims_10:0' shape=(None, 1) dtype=string>, 'Metformin_Hcl': <tf.Tensor 'ExpandDims_11:0' shape=(None, 1) dtype=string>, 'Metformin_Hydrochloride': <tf.Tensor 'ExpandDims_12:0' shape=(None, 1) dtype=string>, 'Miglitol': <tf.Tensor 'ExpandDims_13:0' shape=(None, 1) dtype=string>, 'Nateglinide': <tf.Tensor 'ExpandDims_14:0' shape=(None, 1) dtype=string>, 'Pioglitazole_And_Metformin_Hydrochloride': <tf.Tensor 'ExpandDims_15:0' shape=(None, 1) dtype=string>, 'Pioglitazone': <tf.Tensor 'ExpandDims_16:0' shape=(None, 1) dtype=string>, 'Pioglitazone_Hydrochloride_And_Glimepiride': <tf.Tensor 'ExpandDims_17:0' shape=(None, 1) dtype=string>, 'Repaglinide': <tf.Tensor 'ExpandDims_18:0' shape=(None, 1) dtype=string>, 'Rosiglitazone_Maleate': <tf.Tensor 'ExpandDims_19:0' shape=(None, 1) dtype=string>, 'Tolazamide': <tf.Tensor 'ExpandDims_20:0' shape=(None, 1) dtype=string>, 'Tolbutamide': <tf.Tensor 'ExpandDims_21:0' shape=(None, 1) dtype=string>, 'num_procedures': <tf.Tensor 'ExpandDims_31:0' shape=(None, 1) dtype=int64>, 'num_medications': <tf.Tensor 'ExpandDims_30:0' shape=(None, 1) dtype=int64>, 'number_diagnoses': <tf.Tensor 'ExpandDims_32:0' shape=(None, 1) dtype=int64>}\n",
      "Consider rewriting this model with the Functional API.\n"
     ]
    },
    {
     "name": "stdout",
     "output_type": "stream",
     "text": [
      "198/198 [==============================] - ETA: 0s - loss: 28.1364 - mse: 28.0765WARNING:tensorflow:Layers in a Sequential model should only have a single input tensor, but we receive a <class 'dict'> input: {'patient_nbr': <tf.Tensor 'ExpandDims_34:0' shape=(None, 1) dtype=int64>, 'admission_type_id': <tf.Tensor 'ExpandDims_23:0' shape=(None, 1) dtype=string>, 'discharge_disposition_id': <tf.Tensor 'ExpandDims_26:0' shape=(None, 1) dtype=string>, 'admission_source_id': <tf.Tensor 'ExpandDims_22:0' shape=(None, 1) dtype=string>, 'medical_specialty': <tf.Tensor 'ExpandDims_29:0' shape=(None, 1) dtype=string>, 'primary_diagnosis_code': <tf.Tensor 'ExpandDims_35:0' shape=(None, 1) dtype=string>, 'other_diagnosis_codes': <tf.Tensor 'ExpandDims_33:0' shape=(None, 1) dtype=string>, 'max_glu_serum': <tf.Tensor 'ExpandDims_28:0' shape=(None, 1) dtype=string>, 'A1Cresult': <tf.Tensor 'ExpandDims:0' shape=(None, 1) dtype=string>, 'change': <tf.Tensor 'ExpandDims_25:0' shape=(None, 1) dtype=string>, 'race': <tf.Tensor 'ExpandDims_36:0' shape=(None, 1) dtype=string>, 'gender': <tf.Tensor 'ExpandDims_27:0' shape=(None, 1) dtype=string>, 'age': <tf.Tensor 'ExpandDims_24:0' shape=(None, 1) dtype=string>, 'Acarbose': <tf.Tensor 'ExpandDims_1:0' shape=(None, 1) dtype=string>, 'Glimepiride': <tf.Tensor 'ExpandDims_2:0' shape=(None, 1) dtype=string>, 'Glipizide': <tf.Tensor 'ExpandDims_3:0' shape=(None, 1) dtype=string>, 'Glipizide_And_Metformin_Hcl': <tf.Tensor 'ExpandDims_4:0' shape=(None, 1) dtype=string>, 'Glipizide_And_Metformin_Hydrochloride': <tf.Tensor 'ExpandDims_5:0' shape=(None, 1) dtype=string>, 'Glyburide': <tf.Tensor 'ExpandDims_6:0' shape=(None, 1) dtype=string>, 'Glyburide_And_Metformin_Hydrochloride': <tf.Tensor 'ExpandDims_8:0' shape=(None, 1) dtype=string>, 'Glyburide-metformin_Hydrochloride': <tf.Tensor 'ExpandDims_7:0' shape=(None, 1) dtype=string>, 'Human_Insulin': <tf.Tensor 'ExpandDims_9:0' shape=(None, 1) dtype=string>, 'Insulin_Human': <tf.Tensor 'ExpandDims_10:0' shape=(None, 1) dtype=string>, 'Metformin_Hcl': <tf.Tensor 'ExpandDims_11:0' shape=(None, 1) dtype=string>, 'Metformin_Hydrochloride': <tf.Tensor 'ExpandDims_12:0' shape=(None, 1) dtype=string>, 'Miglitol': <tf.Tensor 'ExpandDims_13:0' shape=(None, 1) dtype=string>, 'Nateglinide': <tf.Tensor 'ExpandDims_14:0' shape=(None, 1) dtype=string>, 'Pioglitazole_And_Metformin_Hydrochloride': <tf.Tensor 'ExpandDims_15:0' shape=(None, 1) dtype=string>, 'Pioglitazone': <tf.Tensor 'ExpandDims_16:0' shape=(None, 1) dtype=string>, 'Pioglitazone_Hydrochloride_And_Glimepiride': <tf.Tensor 'ExpandDims_17:0' shape=(None, 1) dtype=string>, 'Repaglinide': <tf.Tensor 'ExpandDims_18:0' shape=(None, 1) dtype=string>, 'Rosiglitazone_Maleate': <tf.Tensor 'ExpandDims_19:0' shape=(None, 1) dtype=string>, 'Tolazamide': <tf.Tensor 'ExpandDims_20:0' shape=(None, 1) dtype=string>, 'Tolbutamide': <tf.Tensor 'ExpandDims_21:0' shape=(None, 1) dtype=string>, 'num_procedures': <tf.Tensor 'ExpandDims_31:0' shape=(None, 1) dtype=int64>, 'num_medications': <tf.Tensor 'ExpandDims_30:0' shape=(None, 1) dtype=int64>, 'number_diagnoses': <tf.Tensor 'ExpandDims_32:0' shape=(None, 1) dtype=int64>}\n",
      "Consider rewriting this model with the Functional API.\n"
     ]
    },
    {
     "name": "stderr",
     "output_type": "stream",
     "text": [
      "WARNING:tensorflow:Layers in a Sequential model should only have a single input tensor, but we receive a <class 'dict'> input: {'patient_nbr': <tf.Tensor 'ExpandDims_34:0' shape=(None, 1) dtype=int64>, 'admission_type_id': <tf.Tensor 'ExpandDims_23:0' shape=(None, 1) dtype=string>, 'discharge_disposition_id': <tf.Tensor 'ExpandDims_26:0' shape=(None, 1) dtype=string>, 'admission_source_id': <tf.Tensor 'ExpandDims_22:0' shape=(None, 1) dtype=string>, 'medical_specialty': <tf.Tensor 'ExpandDims_29:0' shape=(None, 1) dtype=string>, 'primary_diagnosis_code': <tf.Tensor 'ExpandDims_35:0' shape=(None, 1) dtype=string>, 'other_diagnosis_codes': <tf.Tensor 'ExpandDims_33:0' shape=(None, 1) dtype=string>, 'max_glu_serum': <tf.Tensor 'ExpandDims_28:0' shape=(None, 1) dtype=string>, 'A1Cresult': <tf.Tensor 'ExpandDims:0' shape=(None, 1) dtype=string>, 'change': <tf.Tensor 'ExpandDims_25:0' shape=(None, 1) dtype=string>, 'race': <tf.Tensor 'ExpandDims_36:0' shape=(None, 1) dtype=string>, 'gender': <tf.Tensor 'ExpandDims_27:0' shape=(None, 1) dtype=string>, 'age': <tf.Tensor 'ExpandDims_24:0' shape=(None, 1) dtype=string>, 'Acarbose': <tf.Tensor 'ExpandDims_1:0' shape=(None, 1) dtype=string>, 'Glimepiride': <tf.Tensor 'ExpandDims_2:0' shape=(None, 1) dtype=string>, 'Glipizide': <tf.Tensor 'ExpandDims_3:0' shape=(None, 1) dtype=string>, 'Glipizide_And_Metformin_Hcl': <tf.Tensor 'ExpandDims_4:0' shape=(None, 1) dtype=string>, 'Glipizide_And_Metformin_Hydrochloride': <tf.Tensor 'ExpandDims_5:0' shape=(None, 1) dtype=string>, 'Glyburide': <tf.Tensor 'ExpandDims_6:0' shape=(None, 1) dtype=string>, 'Glyburide_And_Metformin_Hydrochloride': <tf.Tensor 'ExpandDims_8:0' shape=(None, 1) dtype=string>, 'Glyburide-metformin_Hydrochloride': <tf.Tensor 'ExpandDims_7:0' shape=(None, 1) dtype=string>, 'Human_Insulin': <tf.Tensor 'ExpandDims_9:0' shape=(None, 1) dtype=string>, 'Insulin_Human': <tf.Tensor 'ExpandDims_10:0' shape=(None, 1) dtype=string>, 'Metformin_Hcl': <tf.Tensor 'ExpandDims_11:0' shape=(None, 1) dtype=string>, 'Metformin_Hydrochloride': <tf.Tensor 'ExpandDims_12:0' shape=(None, 1) dtype=string>, 'Miglitol': <tf.Tensor 'ExpandDims_13:0' shape=(None, 1) dtype=string>, 'Nateglinide': <tf.Tensor 'ExpandDims_14:0' shape=(None, 1) dtype=string>, 'Pioglitazole_And_Metformin_Hydrochloride': <tf.Tensor 'ExpandDims_15:0' shape=(None, 1) dtype=string>, 'Pioglitazone': <tf.Tensor 'ExpandDims_16:0' shape=(None, 1) dtype=string>, 'Pioglitazone_Hydrochloride_And_Glimepiride': <tf.Tensor 'ExpandDims_17:0' shape=(None, 1) dtype=string>, 'Repaglinide': <tf.Tensor 'ExpandDims_18:0' shape=(None, 1) dtype=string>, 'Rosiglitazone_Maleate': <tf.Tensor 'ExpandDims_19:0' shape=(None, 1) dtype=string>, 'Tolazamide': <tf.Tensor 'ExpandDims_20:0' shape=(None, 1) dtype=string>, 'Tolbutamide': <tf.Tensor 'ExpandDims_21:0' shape=(None, 1) dtype=string>, 'num_procedures': <tf.Tensor 'ExpandDims_31:0' shape=(None, 1) dtype=int64>, 'num_medications': <tf.Tensor 'ExpandDims_30:0' shape=(None, 1) dtype=int64>, 'number_diagnoses': <tf.Tensor 'ExpandDims_32:0' shape=(None, 1) dtype=int64>}\n",
      "Consider rewriting this model with the Functional API.\n"
     ]
    },
    {
     "name": "stdout",
     "output_type": "stream",
     "text": [
      "198/198 [==============================] - 10s 38ms/step - loss: 28.1314 - mse: 28.0712 - val_loss: 23.9358 - val_mse: 23.6916\n",
      "Epoch 2/20\n",
      "198/198 [==============================] - 7s 33ms/step - loss: 23.9582 - mse: 23.6935 - val_loss: 18.7713 - val_mse: 18.0974\n",
      "Epoch 3/20\n",
      "198/198 [==============================] - 7s 32ms/step - loss: 16.0416 - mse: 15.5653 - val_loss: 15.0774 - val_mse: 14.3462\n",
      "Epoch 4/20\n",
      "198/198 [==============================] - 7s 33ms/step - loss: 12.9421 - mse: 12.0744 - val_loss: 13.7342 - val_mse: 12.7338\n",
      "Epoch 5/20\n",
      "198/198 [==============================] - 7s 33ms/step - loss: 10.6073 - mse: 9.7598 - val_loss: 12.1565 - val_mse: 11.2090\n",
      "Epoch 6/20\n",
      "198/198 [==============================] - 7s 33ms/step - loss: 10.1878 - mse: 9.1139 - val_loss: 12.5082 - val_mse: 11.5522\n",
      "Epoch 7/20\n",
      "198/198 [==============================] - 7s 33ms/step - loss: 10.3321 - mse: 9.2843 - val_loss: 11.8083 - val_mse: 10.8437\n",
      "Epoch 8/20\n",
      "198/198 [==============================] - 7s 32ms/step - loss: 8.9568 - mse: 8.1464 - val_loss: 12.5759 - val_mse: 11.4927\n",
      "Epoch 9/20\n",
      "198/198 [==============================] - 7s 33ms/step - loss: 8.7371 - mse: 7.5505 - val_loss: 10.9819 - val_mse: 10.2401\n",
      "Epoch 10/20\n",
      "198/198 [==============================] - 7s 33ms/step - loss: 9.6012 - mse: 8.7555 - val_loss: 10.4032 - val_mse: 9.3391\n",
      "Epoch 11/20\n",
      "198/198 [==============================] - 6s 32ms/step - loss: 6.9940 - mse: 6.0191 - val_loss: 10.7009 - val_mse: 9.7875\n",
      "Epoch 12/20\n",
      "198/198 [==============================] - 7s 33ms/step - loss: 6.5172 - mse: 5.7070 - val_loss: 10.4549 - val_mse: 9.6542\n",
      "Epoch 13/20\n",
      "198/198 [==============================] - 7s 33ms/step - loss: 7.9997 - mse: 7.1872 - val_loss: 10.0244 - val_mse: 9.1720\n",
      "Epoch 14/20\n",
      "198/198 [==============================] - 7s 33ms/step - loss: 6.7741 - mse: 6.0177 - val_loss: 9.8667 - val_mse: 9.1380\n",
      "Epoch 15/20\n",
      "198/198 [==============================] - 7s 33ms/step - loss: 6.9350 - mse: 5.8216 - val_loss: 11.0685 - val_mse: 10.2975\n",
      "Epoch 16/20\n",
      "198/198 [==============================] - 7s 33ms/step - loss: 6.0319 - mse: 5.2399 - val_loss: 10.6584 - val_mse: 9.9559\n",
      "Epoch 17/20\n",
      "198/198 [==============================] - 7s 34ms/step - loss: 6.3250 - mse: 5.3657 - val_loss: 9.9855 - val_mse: 9.2967\n",
      "Epoch 18/20\n",
      "198/198 [==============================] - 7s 34ms/step - loss: 5.8415 - mse: 5.1218 - val_loss: 10.8267 - val_mse: 9.7287\n",
      "Epoch 19/20\n",
      "198/198 [==============================] - 7s 34ms/step - loss: 6.2991 - mse: 5.2718 - val_loss: 9.8642 - val_mse: 9.1687\n",
      "Epoch 20/20\n",
      "198/198 [==============================] - 7s 33ms/step - loss: 6.1316 - mse: 5.5732 - val_loss: 10.3117 - val_mse: 9.2463\n"
     ]
    }
   ],
   "source": [
    "diabetes_model, history = build_diabetes_model(diabetes_train_ds, diabetes_val_ds,  claim_feature_layer,  epochs=20)"
   ]
  },
  {
   "cell_type": "code",
   "execution_count": 57,
   "metadata": {},
   "outputs": [
    {
     "data": {
      "text/plain": [
       "[<matplotlib.lines.Line2D at 0x7f25a22c3950>]"
      ]
     },
     "execution_count": 57,
     "metadata": {},
     "output_type": "execute_result"
    },
    {
     "data": {
      "image/png": "[encoded data removed]",
      "text/plain": [
       "<Figure size 432x288 with 1 Axes>"
      ]
     },
     "metadata": {
      "needs_background": "light"
     },
     "output_type": "display_data"
    }
   ],
   "source": [
    "plt.plot(history.history['val_mse'])\n",
    "plt.plot(history.history['loss'])\n",
    "plt.plot(history.history['val_loss'])"
   ]
  },
  {
   "cell_type": "markdown",
   "metadata": {},
   "source": [
    "## Show Model Uncertainty Range with TF Probability"
   ]
  },
  {
   "cell_type": "markdown",
   "metadata": {},
   "source": [
    "**Question 9**: Now that we have trained a model with TF Probability layers, we can extract the mean and standard deviation for each prediction. Please fill in the answer for the m and s variables below. The code for getting the predictions is provided for you below."
   ]
  },
  {
   "cell_type": "code",
   "execution_count": 35,
   "metadata": {},
   "outputs": [
    {
     "name": "stdout",
     "output_type": "stream",
     "text": [
      "WARNING:tensorflow:Layers in a Sequential model should only have a single input tensor, but we receive a <class 'dict'> input: {'admission_type_id': 16       3\n",
      "20       3\n",
      "23       1\n",
      "25       1\n",
      "28       1\n",
      "        ..\n",
      "56119    3\n",
      "56122    1\n",
      "56123    1\n",
      "56127    1\n",
      "56132    1\n",
      "Name: admission_type_id, Length: 12398, dtype: object, 'discharge_disposition_id': 16        6\n",
      "20        1\n",
      "23        1\n",
      "25        2\n",
      "28        1\n",
      "         ..\n",
      "56119     1\n",
      "56122    22\n",
      "56123     4\n",
      "56127     1\n",
      "56132     1\n",
      "Name: discharge_disposition_id, Length: 12398, dtype: object, 'admission_source_id': 16       2\n",
      "20       2\n",
      "23       1\n",
      "25       7\n",
      "28       7\n",
      "        ..\n",
      "56119    1\n",
      "56122    7\n",
      "56123    7\n",
      "56127    7\n",
      "56132    7\n",
      "Name: admission_source_id, Length: 12398, dtype: object, 'medical_specialty': 16                            ?\n",
      "20                            ?\n",
      "23              Surgery-General\n",
      "25                   Cardiology\n",
      "28       Family/GeneralPractice\n",
      "                  ...          \n",
      "56119                         ?\n",
      "56122          InternalMedicine\n",
      "56123                         ?\n",
      "56127                         ?\n",
      "56132                         ?\n",
      "Name: medical_specialty, Length: 12398, dtype: object, 'primary_diagnosis_code': 16         737\n",
      "20         189\n",
      "23         996\n",
      "25         428\n",
      "28         996\n",
      "         ...  \n",
      "56119      182\n",
      "56122      410\n",
      "56123      295\n",
      "56127    250.8\n",
      "56132      292\n",
      "Name: primary_diagnosis_code, Length: 12398, dtype: object, 'other_diagnosis_codes': 16          427|714\n",
      "20          496|427\n",
      "23       585|250.01\n",
      "25          410|414\n",
      "28       999|250.01\n",
      "            ...    \n",
      "56119       V85|285\n",
      "56122       311|250\n",
      "56123       305|250\n",
      "56127       730|731\n",
      "56132         8|304\n",
      "Name: other_diagnosis_codes, Length: 12398, dtype: object, 'max_glu_serum': 16       None\n",
      "20       None\n",
      "23       None\n",
      "25       None\n",
      "28       None\n",
      "         ... \n",
      "56119    None\n",
      "56122    None\n",
      "56123    None\n",
      "56127    None\n",
      "56132    None\n",
      "Name: max_glu_serum, Length: 12398, dtype: object, 'A1Cresult': 16       None\n",
      "20       None\n",
      "23       None\n",
      "25       None\n",
      "28       None\n",
      "         ... \n",
      "56119    None\n",
      "56122      >7\n",
      "56123      >7\n",
      "56127    None\n",
      "56132    None\n",
      "Name: A1Cresult, Length: 12398, dtype: object, 'change': 16       Ch\n",
      "20       Ch\n",
      "23       No\n",
      "25       Ch\n",
      "28       No\n",
      "         ..\n",
      "56119    Ch\n",
      "56122    No\n",
      "56123    Ch\n",
      "56127    Ch\n",
      "56132    Ch\n",
      "Name: change, Length: 12398, dtype: object, 'race': 16                     ?\n",
      "20       AfricanAmerican\n",
      "23             Caucasian\n",
      "25             Caucasian\n",
      "28             Caucasian\n",
      "              ...       \n",
      "56119          Caucasian\n",
      "56122          Caucasian\n",
      "56123          Caucasian\n",
      "56127              Other\n",
      "56132          Caucasian\n",
      "Name: race, Length: 12398, dtype: object, 'gender': 16         Male\n",
      "20       Female\n",
      "23       Female\n",
      "25       Female\n",
      "28       Female\n",
      "          ...  \n",
      "56119    Female\n",
      "56122    Female\n",
      "56123    Female\n",
      "56127      Male\n",
      "56132    Female\n",
      "Name: gender, Length: 12398, dtype: object, 'age': 16       [70-80)\n",
      "20       [70-80)\n",
      "23       [50-60)\n",
      "25       [80-90)\n",
      "28       [70-80)\n",
      "          ...   \n",
      "56119    [40-50)\n",
      "56122    [70-80)\n",
      "56123    [40-50)\n",
      "56127    [40-50)\n",
      "56132    [80-90)\n",
      "Name: age, Length: 12398, dtype: object, 'Acarbose': 16       0\n",
      "20       0\n",
      "23       0\n",
      "25       0\n",
      "28       0\n",
      "        ..\n",
      "56119    0\n",
      "56122    0\n",
      "56123    0\n",
      "56127    0\n",
      "56132    0\n",
      "Name: Acarbose, Length: 12398, dtype: object, 'Glimepiride': 16       0\n",
      "20       0\n",
      "23       0\n",
      "25       0\n",
      "28       0\n",
      "        ..\n",
      "56119    0\n",
      "56122    0\n",
      "56123    0\n",
      "56127    0\n",
      "56132    0\n",
      "Name: Glimepiride, Length: 12398, dtype: object, 'Glipizide': 16       0\n",
      "20       1\n",
      "23       0\n",
      "25       0\n",
      "28       0\n",
      "        ..\n",
      "56119    0\n",
      "56122    0\n",
      "56123    0\n",
      "56127    0\n",
      "56132    0\n",
      "Name: Glipizide, Length: 12398, dtype: object, 'Glipizide_And_Metformin_Hcl': 16       0\n",
      "20       0\n",
      "23       0\n",
      "25       0\n",
      "28       0\n",
      "        ..\n",
      "56119    0\n",
      "56122    0\n",
      "56123    0\n",
      "56127    0\n",
      "56132    0\n",
      "Name: Glipizide_And_Metformin_Hcl, Length: 12398, dtype: object, 'Glipizide_And_Metformin_Hydrochloride': 16       0\n",
      "20       0\n",
      "23       0\n",
      "25       0\n",
      "28       0\n",
      "        ..\n",
      "56119    0\n",
      "56122    0\n",
      "56123    0\n",
      "56127    0\n",
      "56132    0\n",
      "Name: Glipizide_And_Metformin_Hydrochloride, Length: 12398, dtype: object, 'Glyburide': 16       1\n",
      "20       0\n",
      "23       0\n",
      "25       1\n",
      "28       0\n",
      "        ..\n",
      "56119    0\n",
      "56122    0\n",
      "56123    1\n",
      "56127    0\n",
      "56132    0\n",
      "Name: Glyburide, Length: 12398, dtype: object, 'Glyburide_And_Metformin_Hydrochloride': 16       0\n",
      "20       0\n",
      "23       0\n",
      "25       0\n",
      "28       0\n",
      "        ..\n",
      "56119    0\n",
      "56122    0\n",
      "56123    0\n",
      "56127    0\n",
      "56132    0\n",
      "Name: Glyburide_And_Metformin_Hydrochloride, Length: 12398, dtype: object, 'Glyburide-metformin_Hydrochloride': 16       0\n",
      "20       0\n",
      "23       0\n",
      "25       0\n",
      "28       0\n",
      "        ..\n",
      "56119    0\n",
      "56122    0\n",
      "56123    0\n",
      "56127    0\n",
      "56132    0\n",
      "Name: Glyburide-metformin_Hydrochloride, Length: 12398, dtype: object, 'Human_Insulin': 16       0\n",
      "20       0\n",
      "23       1\n",
      "25       0\n",
      "28       0\n",
      "        ..\n",
      "56119    0\n",
      "56122    1\n",
      "56123    1\n",
      "56127    1\n",
      "56132    0\n",
      "Name: Human_Insulin, Length: 12398, dtype: object, 'Insulin_Human': 16       1\n",
      "20       1\n",
      "23       0\n",
      "25       0\n",
      "28       1\n",
      "        ..\n",
      "56119    1\n",
      "56122    0\n",
      "56123    0\n",
      "56127    0\n",
      "56132    1\n",
      "Name: Insulin_Human, Length: 12398, dtype: object, 'Metformin_Hcl': 16       0\n",
      "20       0\n",
      "23       0\n",
      "25       0\n",
      "28       0\n",
      "        ..\n",
      "56119    0\n",
      "56122    0\n",
      "56123    0\n",
      "56127    0\n",
      "56132    0\n",
      "Name: Metformin_Hcl, Length: 12398, dtype: object, 'Metformin_Hydrochloride': 16       0\n",
      "20       0\n",
      "23       0\n",
      "25       1\n",
      "28       0\n",
      "        ..\n",
      "56119    1\n",
      "56122    0\n",
      "56123    1\n",
      "56127    1\n",
      "56132    0\n",
      "Name: Metformin_Hydrochloride, Length: 12398, dtype: object, 'Miglitol': 16       0\n",
      "20       0\n",
      "23       0\n",
      "25       0\n",
      "28       0\n",
      "        ..\n",
      "56119    0\n",
      "56122    0\n",
      "56123    0\n",
      "56127    0\n",
      "56132    0\n",
      "Name: Miglitol, Length: 12398, dtype: object, 'Nateglinide': 16       0\n",
      "20       0\n",
      "23       0\n",
      "25       0\n",
      "28       0\n",
      "        ..\n",
      "56119    0\n",
      "56122    0\n",
      "56123    0\n",
      "56127    0\n",
      "56132    0\n",
      "Name: Nateglinide, Length: 12398, dtype: object, 'Pioglitazole_And_Metformin_Hydrochloride': 16       0\n",
      "20       0\n",
      "23       0\n",
      "25       0\n",
      "28       0\n",
      "        ..\n",
      "56119    0\n",
      "56122    0\n",
      "56123    0\n",
      "56127    0\n",
      "56132    0\n",
      "Name: Pioglitazole_And_Metformin_Hydrochloride, Length: 12398, dtype: object, 'Pioglitazone': 16       0\n",
      "20       0\n",
      "23       0\n",
      "25       0\n",
      "28       0\n",
      "        ..\n",
      "56119    0\n",
      "56122    0\n",
      "56123    0\n",
      "56127    0\n",
      "56132    0\n",
      "Name: Pioglitazone, Length: 12398, dtype: object, 'Pioglitazone_Hydrochloride_And_Glimepiride': 16       0\n",
      "20       0\n",
      "23       0\n",
      "25       0\n",
      "28       0\n",
      "        ..\n",
      "56119    0\n",
      "56122    0\n",
      "56123    0\n",
      "56127    0\n",
      "56132    0\n",
      "Name: Pioglitazone_Hydrochloride_And_Glimepiride, Length: 12398, dtype: object, 'Repaglinide': 16       0\n",
      "20       0\n",
      "23       0\n",
      "25       0\n",
      "28       0\n",
      "        ..\n",
      "56119    0\n",
      "56122    0\n",
      "56123    0\n",
      "56127    0\n",
      "56132    0\n",
      "Name: Repaglinide, Length: 12398, dtype: object, 'Rosiglitazone_Maleate': 16       0\n",
      "20       0\n",
      "23       0\n",
      "25       0\n",
      "28       0\n",
      "        ..\n",
      "56119    0\n",
      "56122    0\n",
      "56123    0\n",
      "56127    0\n",
      "56132    0\n",
      "Name: Rosiglitazone_Maleate, Length: 12398, dtype: object, 'Tolazamide': 16       0\n",
      "20       0\n",
      "23       0\n",
      "25       0\n",
      "28       0\n",
      "        ..\n",
      "56119    0\n",
      "56122    0\n",
      "56123    0\n",
      "56127    0\n",
      "56132    0\n",
      "Name: Tolazamide, Length: 12398, dtype: object, 'Tolbutamide': 16       0\n",
      "20       0\n",
      "23       0\n",
      "25       0\n",
      "28       0\n",
      "        ..\n",
      "56119    0\n",
      "56122    0\n",
      "56123    0\n",
      "56127    0\n",
      "56132    0\n",
      "Name: Tolbutamide, Length: 12398, dtype: object, 'num_procedures': 16       2\n",
      "20       4\n",
      "23       2\n",
      "25       0\n",
      "28       0\n",
      "        ..\n",
      "56119    4\n",
      "56122    6\n",
      "56123    0\n",
      "56127    2\n",
      "56132    1\n",
      "Name: num_procedures, Length: 12398, dtype: int64, 'num_medications': 16       23\n",
      "20       18\n",
      "23       11\n",
      "25       14\n",
      "28       16\n",
      "         ..\n",
      "56119    25\n",
      "56122    19\n",
      "56123    16\n",
      "56127    13\n",
      "56132    22\n",
      "Name: num_medications, Length: 12398, dtype: int64, 'number_diagnoses': 16       8\n",
      "20       6\n",
      "23       3\n",
      "25       8\n",
      "28       8\n",
      "        ..\n",
      "56119    9\n",
      "56122    9\n",
      "56123    5\n",
      "56127    9\n",
      "56132    9\n",
      "Name: number_diagnoses, Length: 12398, dtype: int64}\n",
      "Consider rewriting this model with the Functional API.\n",
      "WARNING:tensorflow:Layers in a Sequential model should only have a single input tensor, but we receive a <class 'dict'> input: {'patient_nbr': <tf.Tensor 'ExpandDims_34:0' shape=(None, 1) dtype=int64>, 'admission_type_id': <tf.Tensor 'ExpandDims_23:0' shape=(None, 1) dtype=string>, 'discharge_disposition_id': <tf.Tensor 'ExpandDims_26:0' shape=(None, 1) dtype=string>, 'admission_source_id': <tf.Tensor 'ExpandDims_22:0' shape=(None, 1) dtype=string>, 'medical_specialty': <tf.Tensor 'ExpandDims_29:0' shape=(None, 1) dtype=string>, 'primary_diagnosis_code': <tf.Tensor 'ExpandDims_35:0' shape=(None, 1) dtype=string>, 'other_diagnosis_codes': <tf.Tensor 'ExpandDims_33:0' shape=(None, 1) dtype=string>, 'max_glu_serum': <tf.Tensor 'ExpandDims_28:0' shape=(None, 1) dtype=string>, 'A1Cresult': <tf.Tensor 'ExpandDims:0' shape=(None, 1) dtype=string>, 'change': <tf.Tensor 'ExpandDims_25:0' shape=(None, 1) dtype=string>, 'race': <tf.Tensor 'ExpandDims_36:0' shape=(None, 1) dtype=string>, 'gender': <tf.Tensor 'ExpandDims_27:0' shape=(None, 1) dtype=string>, 'age': <tf.Tensor 'ExpandDims_24:0' shape=(None, 1) dtype=string>, 'Acarbose': <tf.Tensor 'ExpandDims_1:0' shape=(None, 1) dtype=string>, 'Glimepiride': <tf.Tensor 'ExpandDims_2:0' shape=(None, 1) dtype=string>, 'Glipizide': <tf.Tensor 'ExpandDims_3:0' shape=(None, 1) dtype=string>, 'Glipizide_And_Metformin_Hcl': <tf.Tensor 'ExpandDims_4:0' shape=(None, 1) dtype=string>, 'Glipizide_And_Metformin_Hydrochloride': <tf.Tensor 'ExpandDims_5:0' shape=(None, 1) dtype=string>, 'Glyburide': <tf.Tensor 'ExpandDims_6:0' shape=(None, 1) dtype=string>, 'Glyburide_And_Metformin_Hydrochloride': <tf.Tensor 'ExpandDims_8:0' shape=(None, 1) dtype=string>, 'Glyburide-metformin_Hydrochloride': <tf.Tensor 'ExpandDims_7:0' shape=(None, 1) dtype=string>, 'Human_Insulin': <tf.Tensor 'ExpandDims_9:0' shape=(None, 1) dtype=string>, 'Insulin_Human': <tf.Tensor 'ExpandDims_10:0' shape=(None, 1) dtype=string>, 'Metformin_Hcl': <tf.Tensor 'ExpandDims_11:0' shape=(None, 1) dtype=string>, 'Metformin_Hydrochloride': <tf.Tensor 'ExpandDims_12:0' shape=(None, 1) dtype=string>, 'Miglitol': <tf.Tensor 'ExpandDims_13:0' shape=(None, 1) dtype=string>, 'Nateglinide': <tf.Tensor 'ExpandDims_14:0' shape=(None, 1) dtype=string>, 'Pioglitazole_And_Metformin_Hydrochloride': <tf.Tensor 'ExpandDims_15:0' shape=(None, 1) dtype=string>, 'Pioglitazone': <tf.Tensor 'ExpandDims_16:0' shape=(None, 1) dtype=string>, 'Pioglitazone_Hydrochloride_And_Glimepiride': <tf.Tensor 'ExpandDims_17:0' shape=(None, 1) dtype=string>, 'Repaglinide': <tf.Tensor 'ExpandDims_18:0' shape=(None, 1) dtype=string>, 'Rosiglitazone_Maleate': <tf.Tensor 'ExpandDims_19:0' shape=(None, 1) dtype=string>, 'Tolazamide': <tf.Tensor 'ExpandDims_20:0' shape=(None, 1) dtype=string>, 'Tolbutamide': <tf.Tensor 'ExpandDims_21:0' shape=(None, 1) dtype=string>, 'num_procedures': <tf.Tensor 'ExpandDims_31:0' shape=(None, 1) dtype=int64>, 'num_medications': <tf.Tensor 'ExpandDims_30:0' shape=(None, 1) dtype=int64>, 'number_diagnoses': <tf.Tensor 'ExpandDims_32:0' shape=(None, 1) dtype=int64>}\n",
      "Consider rewriting this model with the Functional API.\n"
     ]
    }
   ],
   "source": [
    "feature_list = student_categorical_col_list + student_numerical_col_list\n",
    "diabetes_x_tst = dict(d_test[feature_list])\n",
    "diabetes_yhat = diabetes_model(diabetes_x_tst)\n",
    "preds = diabetes_model.predict(diabetes_test_ds)"
   ]
  },
  {
   "cell_type": "code",
   "execution_count": 36,
   "metadata": {},
   "outputs": [],
   "source": [
    "from student_utils import get_mean_std_from_preds\n",
    "m, s = get_mean_std_from_preds(diabetes_yhat)"
   ]
  },
  {
   "cell_type": "markdown",
   "metadata": {},
   "source": [
    "## Show Prediction Output "
   ]
  },
  {
   "cell_type": "code",
   "execution_count": 37,
   "metadata": {},
   "outputs": [],
   "source": [
    "prob_outputs = {\n",
    "    \"pred\": preds.flatten(),\n",
    "    \"actual_value\": d_test['time_in_hospital'].values,\n",
    "    \"pred_mean\": m.numpy().flatten(),\n",
    "    \"pred_std\": s.numpy().flatten()\n",
    "}\n",
    "prob_output_df = pd.DataFrame(prob_outputs)"
   ]
  },
  {
   "cell_type": "code",
   "execution_count": 38,
   "metadata": {},
   "outputs": [
    {
     "data": {
      "text/html": [
       "<div>\n",
       "<style scoped>\n",
       "    .dataframe tbody tr th:only-of-type {\n",
       "        vertical-align: middle;\n",
       "    }\n",
       "\n",
       "    .dataframe tbody tr th {\n",
       "        vertical-align: top;\n",
       "    }\n",
       "\n",
       "    .dataframe thead th {\n",
       "        text-align: right;\n",
       "    }\n",
       "</style>\n",
       "<table border=\"1\" class=\"dataframe\">\n",
       "  <thead>\n",
       "    <tr style=\"text-align: right;\">\n",
       "      <th></th>\n",
       "      <th>pred</th>\n",
       "      <th>actual_value</th>\n",
       "      <th>pred_mean</th>\n",
       "      <th>pred_std</th>\n",
       "    </tr>\n",
       "  </thead>\n",
       "  <tbody>\n",
       "    <tr>\n",
       "      <th>0</th>\n",
       "      <td>1.695910</td>\n",
       "      <td>6.0</td>\n",
       "      <td>3.351597</td>\n",
       "      <td>0.688867</td>\n",
       "    </tr>\n",
       "    <tr>\n",
       "      <th>1</th>\n",
       "      <td>4.969543</td>\n",
       "      <td>3.0</td>\n",
       "      <td>4.892341</td>\n",
       "      <td>0.690202</td>\n",
       "    </tr>\n",
       "    <tr>\n",
       "      <th>2</th>\n",
       "      <td>1.384634</td>\n",
       "      <td>2.0</td>\n",
       "      <td>3.151203</td>\n",
       "      <td>0.689522</td>\n",
       "    </tr>\n",
       "    <tr>\n",
       "      <th>3</th>\n",
       "      <td>0.989240</td>\n",
       "      <td>5.0</td>\n",
       "      <td>2.992799</td>\n",
       "      <td>0.691527</td>\n",
       "    </tr>\n",
       "    <tr>\n",
       "      <th>4</th>\n",
       "      <td>5.146373</td>\n",
       "      <td>6.0</td>\n",
       "      <td>1.863692</td>\n",
       "      <td>0.689326</td>\n",
       "    </tr>\n",
       "  </tbody>\n",
       "</table>\n",
       "</div>"
      ],
      "text/plain": [
       "       pred  actual_value  pred_mean  pred_std\n",
       "0  1.695910           6.0   3.351597  0.688867\n",
       "1  4.969543           3.0   4.892341  0.690202\n",
       "2  1.384634           2.0   3.151203  0.689522\n",
       "3  0.989240           5.0   2.992799  0.691527\n",
       "4  5.146373           6.0   1.863692  0.689326"
      ]
     },
     "execution_count": 38,
     "metadata": {},
     "output_type": "execute_result"
    }
   ],
   "source": [
    "prob_output_df.head()"
   ]
  },
  {
   "cell_type": "code",
   "execution_count": 49,
   "metadata": {},
   "outputs": [
    {
     "data": {
      "image/png": "[encoded data removed]",
      "text/plain": [
       "<Figure size 432x288 with 1 Axes>"
      ]
     },
     "metadata": {
      "needs_background": "light"
     },
     "output_type": "display_data"
    }
   ],
   "source": [
    "a = plt.axes(aspect='equal')\n",
    "plt.scatter(d_test['time_in_hospital'].values, m.numpy().flatten())\n",
    "plt.xlabel('True Values [MPG]')\n",
    "plt.ylabel('Predictions [MPG]')\n",
    "lims = [0, 15]\n",
    "plt.xlim(lims)\n",
    "plt.ylim(lims)\n",
    "_ = plt.plot(lims, lims)"
   ]
  },
  {
   "cell_type": "markdown",
   "metadata": {},
   "source": [
    "## Convert Regression Output to Classification Output for Patient Selection"
   ]
  },
  {
   "cell_type": "markdown",
   "metadata": {},
   "source": [
    "**Question 10**: Given the output predictions, convert it to a binary label for whether the patient meets the time criteria or does not (HINT: use the mean prediction numpy array). The expected output is a numpy array with a 1 or 0 based off if the prediction meets or doesnt meet the criteria."
   ]
  },
  {
   "cell_type": "code",
   "execution_count": 39,
   "metadata": {},
   "outputs": [],
   "source": [
    "from student_utils import get_student_binary_prediction\n",
    "student_binary_prediction = get_student_binary_prediction(prob_output_df, 'pred_mean')"
   ]
  },
  {
   "cell_type": "markdown",
   "metadata": {},
   "source": [
    "### Add Binary Prediction to Test Dataframe"
   ]
  },
  {
   "cell_type": "markdown",
   "metadata": {},
   "source": [
    "Using the student_binary_prediction output that is a numpy array with binary labels, we can use this to add to a dataframe to better visualize and also to prepare the data for the Aequitas toolkit. The Aequitas toolkit requires that the predictions be mapped to a binary label for the predictions (called 'score' field) and the actual value (called 'label_value')."
   ]
  },
  {
   "cell_type": "code",
   "execution_count": 40,
   "metadata": {},
   "outputs": [
    {
     "name": "stderr",
     "output_type": "stream",
     "text": [
      "/home/francois/anaconda3/envs/ehr/lib/python3.7/site-packages/ipykernel_launcher.py:3: SettingWithCopyWarning: \n",
      "A value is trying to be set on a copy of a slice from a DataFrame.\n",
      "Try using .loc[row_indexer,col_indexer] = value instead\n",
      "\n",
      "See the caveats in the documentation: https://pandas.pydata.org/pandas-docs/stable/user_guide/indexing.html#returning-a-view-versus-a-copy\n",
      "  This is separate from the ipykernel package so we can avoid doing imports until\n",
      "/home/francois/anaconda3/envs/ehr/lib/python3.7/site-packages/ipykernel_launcher.py:4: SettingWithCopyWarning: \n",
      "A value is trying to be set on a copy of a slice from a DataFrame.\n",
      "Try using .loc[row_indexer,col_indexer] = value instead\n",
      "\n",
      "See the caveats in the documentation: https://pandas.pydata.org/pandas-docs/stable/user_guide/indexing.html#returning-a-view-versus-a-copy\n",
      "  after removing the cwd from sys.path.\n",
      "/home/francois/anaconda3/envs/ehr/lib/python3.7/site-packages/ipykernel_launcher.py:5: SettingWithCopyWarning: \n",
      "A value is trying to be set on a copy of a slice from a DataFrame.\n",
      "Try using .loc[row_indexer,col_indexer] = value instead\n",
      "\n",
      "See the caveats in the documentation: https://pandas.pydata.org/pandas-docs/stable/user_guide/indexing.html#returning-a-view-versus-a-copy\n",
      "  \"\"\"\n"
     ]
    }
   ],
   "source": [
    "def add_pred_to_test(test_df, pred_np, demo_col_list):\n",
    "    for c in demo_col_list:\n",
    "        test_df[c] = test_df[c].astype(str)\n",
    "    test_df['score'] = pred_np\n",
    "    test_df['label_value'] = test_df['time_in_hospital'].apply(lambda x: 1 if x >=5 else 0)\n",
    "    return test_df\n",
    "\n",
    "pred_test_df = add_pred_to_test(d_test, student_binary_prediction, ['race', 'gender'])"
   ]
  },
  {
   "cell_type": "code",
   "execution_count": 41,
   "metadata": {},
   "outputs": [
    {
     "data": {
      "text/html": [
       "<div>\n",
       "<style scoped>\n",
       "    .dataframe tbody tr th:only-of-type {\n",
       "        vertical-align: middle;\n",
       "    }\n",
       "\n",
       "    .dataframe tbody tr th {\n",
       "        vertical-align: top;\n",
       "    }\n",
       "\n",
       "    .dataframe thead th {\n",
       "        text-align: right;\n",
       "    }\n",
       "</style>\n",
       "<table border=\"1\" class=\"dataframe\">\n",
       "  <thead>\n",
       "    <tr style=\"text-align: right;\">\n",
       "      <th></th>\n",
       "      <th>patient_nbr</th>\n",
       "      <th>gender</th>\n",
       "      <th>race</th>\n",
       "      <th>time_in_hospital</th>\n",
       "      <th>score</th>\n",
       "      <th>label_value</th>\n",
       "    </tr>\n",
       "  </thead>\n",
       "  <tbody>\n",
       "    <tr>\n",
       "      <th>16</th>\n",
       "      <td>69422211</td>\n",
       "      <td>Male</td>\n",
       "      <td>?</td>\n",
       "      <td>6.0</td>\n",
       "      <td>0.0</td>\n",
       "      <td>1</td>\n",
       "    </tr>\n",
       "    <tr>\n",
       "      <th>20</th>\n",
       "      <td>62718876</td>\n",
       "      <td>Female</td>\n",
       "      <td>AfricanAmerican</td>\n",
       "      <td>3.0</td>\n",
       "      <td>0.0</td>\n",
       "      <td>0</td>\n",
       "    </tr>\n",
       "    <tr>\n",
       "      <th>23</th>\n",
       "      <td>115196778</td>\n",
       "      <td>Female</td>\n",
       "      <td>Caucasian</td>\n",
       "      <td>2.0</td>\n",
       "      <td>0.0</td>\n",
       "      <td>0</td>\n",
       "    </tr>\n",
       "    <tr>\n",
       "      <th>25</th>\n",
       "      <td>18196434</td>\n",
       "      <td>Female</td>\n",
       "      <td>Caucasian</td>\n",
       "      <td>5.0</td>\n",
       "      <td>1.0</td>\n",
       "      <td>1</td>\n",
       "    </tr>\n",
       "    <tr>\n",
       "      <th>28</th>\n",
       "      <td>80845353</td>\n",
       "      <td>Female</td>\n",
       "      <td>Caucasian</td>\n",
       "      <td>6.0</td>\n",
       "      <td>0.0</td>\n",
       "      <td>1</td>\n",
       "    </tr>\n",
       "  </tbody>\n",
       "</table>\n",
       "</div>"
      ],
      "text/plain": [
       "    patient_nbr  gender             race  time_in_hospital  score  label_value\n",
       "16     69422211    Male                ?               6.0    0.0            1\n",
       "20     62718876  Female  AfricanAmerican               3.0    0.0            0\n",
       "23    115196778  Female        Caucasian               2.0    0.0            0\n",
       "25     18196434  Female        Caucasian               5.0    1.0            1\n",
       "28     80845353  Female        Caucasian               6.0    0.0            1"
      ]
     },
     "execution_count": 41,
     "metadata": {},
     "output_type": "execute_result"
    }
   ],
   "source": [
    "pred_test_df[['patient_nbr', 'gender', 'race', 'time_in_hospital', 'score', 'label_value']].head()"
   ]
  },
  {
   "cell_type": "markdown",
   "metadata": {},
   "source": [
    "## Model Evaluation Metrics "
   ]
  },
  {
   "cell_type": "markdown",
   "metadata": {},
   "source": [
    "**Question 11**: Now it is time to use the newly created binary labels in the 'pred_test_df' dataframe to evaluate the model with some common classification metrics. Please create a report summary of the performance of the model and be sure to give the ROC AUC, F1 score(weighted), class precision and recall scores. "
   ]
  },
  {
   "cell_type": "markdown",
   "metadata": {},
   "source": [
    "For the report please be sure to include the following three parts:\n",
    "- With a non-technical audience in mind, explain the precision-recall tradeoff in regard to how you have optimized your model.\n",
    "\n",
    "- What are some areas of improvement for future iterations?"
   ]
  },
  {
   "cell_type": "code",
   "execution_count": 118,
   "metadata": {},
   "outputs": [
    {
     "name": "stdout",
     "output_type": "stream",
     "text": [
      "              precision    recall  f1-score   support\n",
      "\n",
      "           0       0.56      0.83      0.67      1551\n",
      "           1       0.44      0.18      0.25      1205\n",
      "\n",
      "    accuracy                           0.54      2756\n",
      "   macro avg       0.50      0.50      0.46      2756\n",
      "weighted avg       0.51      0.54      0.49      2756\n",
      "\n"
     ]
    },
    {
     "data": {
      "text/plain": [
       "0.5023082417714713"
      ]
     },
     "execution_count": 118,
     "metadata": {},
     "output_type": "execute_result"
    }
   ],
   "source": [
    "from sklearn.metrics import accuracy_score, f1_score, classification_report, roc_auc_score, brier_score_loss\n",
    "y_true = df['label_value'].values \n",
    "y_pred = df['score'].values\n",
    "accuracy_score(y_true, y_pred)\n",
    "print(classification_report(y_true, y_pred))\n",
    "roc_auc_score(y_true, y_pred)"
   ]
  },
  {
   "cell_type": "code",
   "execution_count": 52,
   "metadata": {},
   "outputs": [
    {
     "name": "stdout",
     "output_type": "stream",
     "text": [
      "precision:38.105\n",
      "recall:16.018\n",
      "specificity:81.863\n",
      "accuracy:48.940\n",
      "F1:0.226\n",
      "auc:0.489\n",
      "Brier score:0.452\n",
      "\n",
      "              precision    recall  f1-score   support\n",
      "\n",
      "           0       0.58      0.82      0.68      1621\n",
      "           1       0.38      0.16      0.23      1130\n",
      "\n",
      "    accuracy                           0.55      2751\n",
      "   macro avg       0.48      0.49      0.45      2751\n",
      "weighted avg       0.50      0.55      0.49      2751\n",
      "\n"
     ]
    }
   ],
   "source": [
    "from sklearn.metrics import confusion_matrix, accuracy_score, f1_score, classification_report, roc_auc_score, brier_score_loss,\\\n",
    "roc_curve, auc, precision_recall_curve, plot_precision_recall_curve, plot_roc_curve\n",
    "\n",
    "df = pred_test_df.dropna(axis=0)[['patient_nbr', 'time_in_hospital', 'score', 'label_value']]\n",
    "y_true = df['label_value'].values \n",
    "y_pred = df['score'].values\n",
    "tn, fp, fn, tp = confusion_matrix(y_true, y_pred).ravel()\n",
    "spe = tn/(tn+fp)*100\n",
    "recall = tp/(tp+fn)*100\n",
    "precision = tp/(tp+fp)*100\n",
    "acc = (spe+recall)/2\n",
    "f1 = 2*tp/(2*tp+fn+fp)\n",
    "auc = roc_auc_score(y_true, y_pred)\n",
    "bs = brier_score_loss(y_true, y_pred)\n",
    "\n",
    "# AUC, F1, precision and recall\n",
    "# Summary\n",
    "print('precision:%.3f\\nrecall:%.3f\\nspecificity:%.3f\\naccuracy:%.3f\\nF1:%.3f\\nauc:%.3f\\nBrier score:%.3f\\n'%(precision, recall, spe, acc, f1, auc,bs))\n",
    "print(classification_report(y_true, y_pred))"
   ]
  },
  {
   "cell_type": "markdown",
   "metadata": {},
   "source": [
    "# 7. Evaluating Potential Model Biases with Aequitas Toolkit"
   ]
  },
  {
   "cell_type": "markdown",
   "metadata": {},
   "source": [
    "## Prepare Data For Aequitas Bias Toolkit "
   ]
  },
  {
   "cell_type": "markdown",
   "metadata": {},
   "source": [
    "Using the gender and race fields, we will prepare the data for the Aequitas Toolkit."
   ]
  },
  {
   "cell_type": "code",
   "execution_count": 44,
   "metadata": {},
   "outputs": [
    {
     "name": "stderr",
     "output_type": "stream",
     "text": [
      "/home/francois/anaconda3/envs/ehr/lib/python3.7/site-packages/pandas/core/indexing.py:1675: SettingWithCopyWarning: \n",
      "A value is trying to be set on a copy of a slice from a DataFrame.\n",
      "Try using .loc[row_indexer,col_indexer] = value instead\n",
      "\n",
      "See the caveats in the documentation: https://pandas.pydata.org/pandas-docs/stable/user_guide/indexing.html#returning-a-view-versus-a-copy\n",
      "  self._setitem_single_column(ilocs[0], value, pi)\n"
     ]
    }
   ],
   "source": [
    "# Aequitas\n",
    "from aequitas.preprocessing import preprocess_input_df\n",
    "from aequitas.group import Group\n",
    "from aequitas.plotting import Plot\n",
    "from aequitas.bias import Bias\n",
    "from aequitas.fairness import Fairness\n",
    "\n",
    "ae_subset_df = pred_test_df[['race', 'gender', 'score', 'label_value']]\n",
    "ae_df, _ = preprocess_input_df(ae_subset_df)\n",
    "g = Group()\n",
    "xtab, _ = g.get_crosstabs(ae_df)\n",
    "absolute_metrics = g.list_absolute_metrics(xtab)\n",
    "clean_xtab = xtab.fillna(-1)\n",
    "aqp = Plot()\n",
    "b = Bias()\n"
   ]
  },
  {
   "cell_type": "markdown",
   "metadata": {},
   "source": [
    "## Reference Group Selection"
   ]
  },
  {
   "cell_type": "markdown",
   "metadata": {},
   "source": [
    "Below we have chosen the reference group for our analysis but feel free to select another one."
   ]
  },
  {
   "cell_type": "code",
   "execution_count": 45,
   "metadata": {},
   "outputs": [
    {
     "name": "stdout",
     "output_type": "stream",
     "text": [
      "get_disparity_predefined_group()\n"
     ]
    }
   ],
   "source": [
    "# test reference group with Caucasian Male\n",
    "bdf = b.get_disparity_predefined_groups(clean_xtab, \n",
    "                    original_df=ae_df, \n",
    "                    ref_groups_dict={'race':'Caucasian', 'gender':'Male'}, \n",
    "                    alpha=0.05, \n",
    "                    check_significance=False)\n",
    "\n",
    "\n",
    "f = Fairness()\n",
    "fdf = f.get_group_value_fairness(bdf)"
   ]
  },
  {
   "cell_type": "markdown",
   "metadata": {},
   "source": [
    "## Race and Gender Bias Analysis for Patient Selection"
   ]
  },
  {
   "cell_type": "markdown",
   "metadata": {},
   "source": [
    "**Question 12**: For the gender and race fields, please plot two metrics that are important for patient selection below and state whether there is a significant bias in your model across any of the groups along with justification for your statement."
   ]
  },
  {
   "cell_type": "code",
   "execution_count": 46,
   "metadata": {},
   "outputs": [
    {
     "data": {
      "image/png": "[encoded data removed]",
      "text/plain": [
       "<Figure size 720x360 with 1 Axes>"
      ]
     },
     "metadata": {
      "needs_background": "light"
     },
     "output_type": "display_data"
    }
   ],
   "source": [
    "aqp.plot_group_metric(clean_xtab, 'tpr', min_group_size=0.05)"
   ]
  },
  {
   "cell_type": "code",
   "execution_count": 47,
   "metadata": {},
   "outputs": [
    {
     "data": {
      "image/png": "[encoded data removed]",
      "text/plain": [
       "<Figure size 720x360 with 1 Axes>"
      ]
     },
     "metadata": {
      "needs_background": "light"
     },
     "output_type": "display_data"
    }
   ],
   "source": [
    "aqp.plot_group_metric(clean_xtab, 'tnr', min_group_size=0.05)"
   ]
  },
  {
   "cell_type": "code",
   "execution_count": 55,
   "metadata": {},
   "outputs": [
    {
     "data": {
      "text/plain": [
       "<AxesSubplot:title={'center':'TNR (Model 0)'}, xlabel='Absolute Metric Magnitude'>"
      ]
     },
     "execution_count": 55,
     "metadata": {},
     "output_type": "execute_result"
    },
    {
     "data": {
      "image/png": "[encoded data removed]",
      "text/plain": [
       "<Figure size 720x360 with 1 Axes>"
      ]
     },
     "metadata": {
      "needs_background": "light"
     },
     "output_type": "display_data"
    }
   ],
   "source": [
    "aqp.plot_group_metric(clean_xtab, 'tnr', min_group_size=0.05)"
   ]
  },
  {
   "cell_type": "code",
   "execution_count": null,
   "metadata": {},
   "outputs": [],
   "source": [
    "# Plot two metrics\n",
    "\n",
    "# Is there significant bias in your model for either race or gender?\n",
    "#There is no signifiant bias for either race or gender"
   ]
  },
  {
   "cell_type": "markdown",
   "metadata": {},
   "source": [
    "## Fairness Analysis Example - Relative to a Reference Group "
   ]
  },
  {
   "cell_type": "markdown",
   "metadata": {},
   "source": [
    "**Question 13**: Earlier we defined our reference group and then calculated disparity metrics relative to this grouping. Please provide a visualization of the fairness evaluation for this reference group and analyze whether there is disparity."
   ]
  },
  {
   "cell_type": "code",
   "execution_count": 53,
   "metadata": {},
   "outputs": [
    {
     "data": {
      "image/png": "[encoded data removed]",
      "text/plain": [
       "<Figure size 720x360 with 1 Axes>"
      ]
     },
     "metadata": {
      "needs_background": "light"
     },
     "output_type": "display_data"
    }
   ],
   "source": [
    "# Reference group fairness plot\n",
    "aqp.plot_fairness_group(fdf, group_metric='fpr', title=True)"
   ]
  }
 ],
 "metadata": {
  "kernelspec": {
   "display_name": "Python [conda env:ehr]",
   "language": "python",
   "name": "conda-env-ehr-py"
  },
  "language_info": {
   "codemirror_mode": {
    "name": "ipython",
    "version": 3
   },
   "file_extension": ".py",
   "mimetype": "text/x-python",
   "name": "python",
   "nbconvert_exporter": "python",
   "pygments_lexer": "ipython3",
   "version": "3.7.9"
  }
 },
 "nbformat": 4,
 "nbformat_minor": 2
}
